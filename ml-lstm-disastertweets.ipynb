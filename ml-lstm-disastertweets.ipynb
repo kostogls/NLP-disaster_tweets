{
 "cells": [
  {
   "cell_type": "markdown",
   "id": "03e4f027",
   "metadata": {
    "id": "sz0RW-1wKQBA",
    "papermill": {
     "duration": 0.062585,
     "end_time": "2021-10-21T19:29:29.055886",
     "exception": false,
     "start_time": "2021-10-21T19:29:28.993301",
     "status": "completed"
    },
    "tags": []
   },
   "source": [
    "*In this notebook there is some basic text preprocessing and data visualization, followed by machine learning algortihms and deep learning (LSTM Network)*"
   ]
  },
  {
   "cell_type": "code",
   "execution_count": 1,
   "id": "f20f8e12",
   "metadata": {
    "execution": {
     "iopub.execute_input": "2021-10-21T19:29:29.180401Z",
     "iopub.status.busy": "2021-10-21T19:29:29.179007Z",
     "iopub.status.idle": "2021-10-21T19:29:30.118088Z",
     "shell.execute_reply": "2021-10-21T19:29:30.117275Z",
     "shell.execute_reply.started": "2021-10-21T19:16:39.05212Z"
    },
    "id": "DmvVxoczFhwz",
    "papermill": {
     "duration": 1.003561,
     "end_time": "2021-10-21T19:29:30.118274",
     "exception": false,
     "start_time": "2021-10-21T19:29:29.114713",
     "status": "completed"
    },
    "tags": []
   },
   "outputs": [],
   "source": [
    "import numpy as np\n",
    "import pandas as pd\n",
    "import matplotlib.pyplot as plt\n",
    "import seaborn as sns\n",
    "import re\n",
    "import string"
   ]
  },
  {
   "cell_type": "code",
   "execution_count": 2,
   "id": "080aebe3",
   "metadata": {
    "execution": {
     "iopub.execute_input": "2021-10-21T19:29:30.241314Z",
     "iopub.status.busy": "2021-10-21T19:29:30.240464Z",
     "iopub.status.idle": "2021-10-21T19:29:30.320766Z",
     "shell.execute_reply": "2021-10-21T19:29:30.319654Z",
     "shell.execute_reply.started": "2021-10-21T19:16:40.211586Z"
    },
    "id": "Au8rfYYUFhw0",
    "papermill": {
     "duration": 0.141695,
     "end_time": "2021-10-21T19:29:30.320965",
     "exception": false,
     "start_time": "2021-10-21T19:29:30.179270",
     "status": "completed"
    },
    "tags": []
   },
   "outputs": [],
   "source": [
    "train = pd.read_csv('../input/nlp-getting-started/train.csv')\n",
    "test = pd.read_csv('../input/nlp-getting-started/test.csv')"
   ]
  },
  {
   "cell_type": "markdown",
   "id": "8cf9228e",
   "metadata": {
    "id": "fBNBMQqWJ7H1",
    "papermill": {
     "duration": 0.059444,
     "end_time": "2021-10-21T19:29:30.442265",
     "exception": false,
     "start_time": "2021-10-21T19:29:30.382821",
     "status": "completed"
    },
    "tags": []
   },
   "source": [
    "Just checking the train and test dataframes"
   ]
  },
  {
   "cell_type": "code",
   "execution_count": 3,
   "id": "fca7332b",
   "metadata": {
    "execution": {
     "iopub.execute_input": "2021-10-21T19:29:30.573558Z",
     "iopub.status.busy": "2021-10-21T19:29:30.572869Z",
     "iopub.status.idle": "2021-10-21T19:29:30.596833Z",
     "shell.execute_reply": "2021-10-21T19:29:30.597382Z",
     "shell.execute_reply.started": "2021-10-21T19:16:40.306651Z"
    },
    "id": "OAXYkTv-Fhw0",
    "outputId": "a3bef3eb-6b23-45b3-c5f9-e07bda5a51cd",
    "papermill": {
     "duration": 0.094295,
     "end_time": "2021-10-21T19:29:30.597566",
     "exception": false,
     "start_time": "2021-10-21T19:29:30.503271",
     "status": "completed"
    },
    "tags": []
   },
   "outputs": [
    {
     "data": {
      "text/html": [
       "<div>\n",
       "<style scoped>\n",
       "    .dataframe tbody tr th:only-of-type {\n",
       "        vertical-align: middle;\n",
       "    }\n",
       "\n",
       "    .dataframe tbody tr th {\n",
       "        vertical-align: top;\n",
       "    }\n",
       "\n",
       "    .dataframe thead th {\n",
       "        text-align: right;\n",
       "    }\n",
       "</style>\n",
       "<table border=\"1\" class=\"dataframe\">\n",
       "  <thead>\n",
       "    <tr style=\"text-align: right;\">\n",
       "      <th></th>\n",
       "      <th>id</th>\n",
       "      <th>keyword</th>\n",
       "      <th>location</th>\n",
       "      <th>text</th>\n",
       "      <th>target</th>\n",
       "    </tr>\n",
       "  </thead>\n",
       "  <tbody>\n",
       "    <tr>\n",
       "      <th>0</th>\n",
       "      <td>1</td>\n",
       "      <td>NaN</td>\n",
       "      <td>NaN</td>\n",
       "      <td>Our Deeds are the Reason of this #earthquake M...</td>\n",
       "      <td>1</td>\n",
       "    </tr>\n",
       "    <tr>\n",
       "      <th>1</th>\n",
       "      <td>4</td>\n",
       "      <td>NaN</td>\n",
       "      <td>NaN</td>\n",
       "      <td>Forest fire near La Ronge Sask. Canada</td>\n",
       "      <td>1</td>\n",
       "    </tr>\n",
       "    <tr>\n",
       "      <th>2</th>\n",
       "      <td>5</td>\n",
       "      <td>NaN</td>\n",
       "      <td>NaN</td>\n",
       "      <td>All residents asked to 'shelter in place' are ...</td>\n",
       "      <td>1</td>\n",
       "    </tr>\n",
       "    <tr>\n",
       "      <th>3</th>\n",
       "      <td>6</td>\n",
       "      <td>NaN</td>\n",
       "      <td>NaN</td>\n",
       "      <td>13,000 people receive #wildfires evacuation or...</td>\n",
       "      <td>1</td>\n",
       "    </tr>\n",
       "    <tr>\n",
       "      <th>4</th>\n",
       "      <td>7</td>\n",
       "      <td>NaN</td>\n",
       "      <td>NaN</td>\n",
       "      <td>Just got sent this photo from Ruby #Alaska as ...</td>\n",
       "      <td>1</td>\n",
       "    </tr>\n",
       "    <tr>\n",
       "      <th>...</th>\n",
       "      <td>...</td>\n",
       "      <td>...</td>\n",
       "      <td>...</td>\n",
       "      <td>...</td>\n",
       "      <td>...</td>\n",
       "    </tr>\n",
       "    <tr>\n",
       "      <th>7608</th>\n",
       "      <td>10869</td>\n",
       "      <td>NaN</td>\n",
       "      <td>NaN</td>\n",
       "      <td>Two giant cranes holding a bridge collapse int...</td>\n",
       "      <td>1</td>\n",
       "    </tr>\n",
       "    <tr>\n",
       "      <th>7609</th>\n",
       "      <td>10870</td>\n",
       "      <td>NaN</td>\n",
       "      <td>NaN</td>\n",
       "      <td>@aria_ahrary @TheTawniest The out of control w...</td>\n",
       "      <td>1</td>\n",
       "    </tr>\n",
       "    <tr>\n",
       "      <th>7610</th>\n",
       "      <td>10871</td>\n",
       "      <td>NaN</td>\n",
       "      <td>NaN</td>\n",
       "      <td>M1.94 [01:04 UTC]?5km S of Volcano Hawaii. htt...</td>\n",
       "      <td>1</td>\n",
       "    </tr>\n",
       "    <tr>\n",
       "      <th>7611</th>\n",
       "      <td>10872</td>\n",
       "      <td>NaN</td>\n",
       "      <td>NaN</td>\n",
       "      <td>Police investigating after an e-bike collided ...</td>\n",
       "      <td>1</td>\n",
       "    </tr>\n",
       "    <tr>\n",
       "      <th>7612</th>\n",
       "      <td>10873</td>\n",
       "      <td>NaN</td>\n",
       "      <td>NaN</td>\n",
       "      <td>The Latest: More Homes Razed by Northern Calif...</td>\n",
       "      <td>1</td>\n",
       "    </tr>\n",
       "  </tbody>\n",
       "</table>\n",
       "<p>7613 rows × 5 columns</p>\n",
       "</div>"
      ],
      "text/plain": [
       "         id keyword location  \\\n",
       "0         1     NaN      NaN   \n",
       "1         4     NaN      NaN   \n",
       "2         5     NaN      NaN   \n",
       "3         6     NaN      NaN   \n",
       "4         7     NaN      NaN   \n",
       "...     ...     ...      ...   \n",
       "7608  10869     NaN      NaN   \n",
       "7609  10870     NaN      NaN   \n",
       "7610  10871     NaN      NaN   \n",
       "7611  10872     NaN      NaN   \n",
       "7612  10873     NaN      NaN   \n",
       "\n",
       "                                                   text  target  \n",
       "0     Our Deeds are the Reason of this #earthquake M...       1  \n",
       "1                Forest fire near La Ronge Sask. Canada       1  \n",
       "2     All residents asked to 'shelter in place' are ...       1  \n",
       "3     13,000 people receive #wildfires evacuation or...       1  \n",
       "4     Just got sent this photo from Ruby #Alaska as ...       1  \n",
       "...                                                 ...     ...  \n",
       "7608  Two giant cranes holding a bridge collapse int...       1  \n",
       "7609  @aria_ahrary @TheTawniest The out of control w...       1  \n",
       "7610  M1.94 [01:04 UTC]?5km S of Volcano Hawaii. htt...       1  \n",
       "7611  Police investigating after an e-bike collided ...       1  \n",
       "7612  The Latest: More Homes Razed by Northern Calif...       1  \n",
       "\n",
       "[7613 rows x 5 columns]"
      ]
     },
     "execution_count": 3,
     "metadata": {},
     "output_type": "execute_result"
    }
   ],
   "source": [
    "train"
   ]
  },
  {
   "cell_type": "code",
   "execution_count": 4,
   "id": "75471657",
   "metadata": {
    "execution": {
     "iopub.execute_input": "2021-10-21T19:29:30.784172Z",
     "iopub.status.busy": "2021-10-21T19:29:30.783459Z",
     "iopub.status.idle": "2021-10-21T19:29:30.796647Z",
     "shell.execute_reply": "2021-10-21T19:29:30.797268Z",
     "shell.execute_reply.started": "2021-10-21T19:16:47.678451Z"
    },
    "id": "JJmbdCekFhw1",
    "outputId": "403026d9-b72d-4b8d-de3f-9e49ee947335",
    "papermill": {
     "duration": 0.075451,
     "end_time": "2021-10-21T19:29:30.797445",
     "exception": false,
     "start_time": "2021-10-21T19:29:30.721994",
     "status": "completed"
    },
    "tags": []
   },
   "outputs": [
    {
     "data": {
      "text/html": [
       "<div>\n",
       "<style scoped>\n",
       "    .dataframe tbody tr th:only-of-type {\n",
       "        vertical-align: middle;\n",
       "    }\n",
       "\n",
       "    .dataframe tbody tr th {\n",
       "        vertical-align: top;\n",
       "    }\n",
       "\n",
       "    .dataframe thead th {\n",
       "        text-align: right;\n",
       "    }\n",
       "</style>\n",
       "<table border=\"1\" class=\"dataframe\">\n",
       "  <thead>\n",
       "    <tr style=\"text-align: right;\">\n",
       "      <th></th>\n",
       "      <th>id</th>\n",
       "      <th>keyword</th>\n",
       "      <th>location</th>\n",
       "      <th>text</th>\n",
       "    </tr>\n",
       "  </thead>\n",
       "  <tbody>\n",
       "    <tr>\n",
       "      <th>0</th>\n",
       "      <td>0</td>\n",
       "      <td>NaN</td>\n",
       "      <td>NaN</td>\n",
       "      <td>Just happened a terrible car crash</td>\n",
       "    </tr>\n",
       "    <tr>\n",
       "      <th>1</th>\n",
       "      <td>2</td>\n",
       "      <td>NaN</td>\n",
       "      <td>NaN</td>\n",
       "      <td>Heard about #earthquake is different cities, s...</td>\n",
       "    </tr>\n",
       "    <tr>\n",
       "      <th>2</th>\n",
       "      <td>3</td>\n",
       "      <td>NaN</td>\n",
       "      <td>NaN</td>\n",
       "      <td>there is a forest fire at spot pond, geese are...</td>\n",
       "    </tr>\n",
       "    <tr>\n",
       "      <th>3</th>\n",
       "      <td>9</td>\n",
       "      <td>NaN</td>\n",
       "      <td>NaN</td>\n",
       "      <td>Apocalypse lighting. #Spokane #wildfires</td>\n",
       "    </tr>\n",
       "    <tr>\n",
       "      <th>4</th>\n",
       "      <td>11</td>\n",
       "      <td>NaN</td>\n",
       "      <td>NaN</td>\n",
       "      <td>Typhoon Soudelor kills 28 in China and Taiwan</td>\n",
       "    </tr>\n",
       "    <tr>\n",
       "      <th>...</th>\n",
       "      <td>...</td>\n",
       "      <td>...</td>\n",
       "      <td>...</td>\n",
       "      <td>...</td>\n",
       "    </tr>\n",
       "    <tr>\n",
       "      <th>3258</th>\n",
       "      <td>10861</td>\n",
       "      <td>NaN</td>\n",
       "      <td>NaN</td>\n",
       "      <td>EARTHQUAKE SAFETY LOS ANGELES ÛÒ SAFETY FASTE...</td>\n",
       "    </tr>\n",
       "    <tr>\n",
       "      <th>3259</th>\n",
       "      <td>10865</td>\n",
       "      <td>NaN</td>\n",
       "      <td>NaN</td>\n",
       "      <td>Storm in RI worse than last hurricane. My city...</td>\n",
       "    </tr>\n",
       "    <tr>\n",
       "      <th>3260</th>\n",
       "      <td>10868</td>\n",
       "      <td>NaN</td>\n",
       "      <td>NaN</td>\n",
       "      <td>Green Line derailment in Chicago http://t.co/U...</td>\n",
       "    </tr>\n",
       "    <tr>\n",
       "      <th>3261</th>\n",
       "      <td>10874</td>\n",
       "      <td>NaN</td>\n",
       "      <td>NaN</td>\n",
       "      <td>MEG issues Hazardous Weather Outlook (HWO) htt...</td>\n",
       "    </tr>\n",
       "    <tr>\n",
       "      <th>3262</th>\n",
       "      <td>10875</td>\n",
       "      <td>NaN</td>\n",
       "      <td>NaN</td>\n",
       "      <td>#CityofCalgary has activated its Municipal Eme...</td>\n",
       "    </tr>\n",
       "  </tbody>\n",
       "</table>\n",
       "<p>3263 rows × 4 columns</p>\n",
       "</div>"
      ],
      "text/plain": [
       "         id keyword location  \\\n",
       "0         0     NaN      NaN   \n",
       "1         2     NaN      NaN   \n",
       "2         3     NaN      NaN   \n",
       "3         9     NaN      NaN   \n",
       "4        11     NaN      NaN   \n",
       "...     ...     ...      ...   \n",
       "3258  10861     NaN      NaN   \n",
       "3259  10865     NaN      NaN   \n",
       "3260  10868     NaN      NaN   \n",
       "3261  10874     NaN      NaN   \n",
       "3262  10875     NaN      NaN   \n",
       "\n",
       "                                                   text  \n",
       "0                    Just happened a terrible car crash  \n",
       "1     Heard about #earthquake is different cities, s...  \n",
       "2     there is a forest fire at spot pond, geese are...  \n",
       "3              Apocalypse lighting. #Spokane #wildfires  \n",
       "4         Typhoon Soudelor kills 28 in China and Taiwan  \n",
       "...                                                 ...  \n",
       "3258  EARTHQUAKE SAFETY LOS ANGELES ÛÒ SAFETY FASTE...  \n",
       "3259  Storm in RI worse than last hurricane. My city...  \n",
       "3260  Green Line derailment in Chicago http://t.co/U...  \n",
       "3261  MEG issues Hazardous Weather Outlook (HWO) htt...  \n",
       "3262  #CityofCalgary has activated its Municipal Eme...  \n",
       "\n",
       "[3263 rows x 4 columns]"
      ]
     },
     "execution_count": 4,
     "metadata": {},
     "output_type": "execute_result"
    }
   ],
   "source": [
    "test"
   ]
  },
  {
   "cell_type": "markdown",
   "id": "355df47b",
   "metadata": {
    "id": "0DA-YltqKDa-",
    "papermill": {
     "duration": 0.058208,
     "end_time": "2021-10-21T19:29:30.914213",
     "exception": false,
     "start_time": "2021-10-21T19:29:30.856005",
     "status": "completed"
    },
    "tags": []
   },
   "source": [
    "Check how many NaN values there are "
   ]
  },
  {
   "cell_type": "code",
   "execution_count": 5,
   "id": "7797a4db",
   "metadata": {
    "execution": {
     "iopub.execute_input": "2021-10-21T19:29:31.039969Z",
     "iopub.status.busy": "2021-10-21T19:29:31.038162Z",
     "iopub.status.idle": "2021-10-21T19:29:31.049355Z",
     "shell.execute_reply": "2021-10-21T19:29:31.048852Z",
     "shell.execute_reply.started": "2021-10-21T19:16:50.108135Z"
    },
    "id": "laoYoTflFhw1",
    "outputId": "952ea2ab-1ff9-4ac0-9160-e66659947f72",
    "papermill": {
     "duration": 0.076414,
     "end_time": "2021-10-21T19:29:31.049509",
     "exception": false,
     "start_time": "2021-10-21T19:29:30.973095",
     "status": "completed"
    },
    "tags": []
   },
   "outputs": [
    {
     "data": {
      "text/plain": [
       "id             0\n",
       "keyword       61\n",
       "location    2533\n",
       "text           0\n",
       "target         0\n",
       "dtype: int64"
      ]
     },
     "execution_count": 5,
     "metadata": {},
     "output_type": "execute_result"
    }
   ],
   "source": [
    "train.isnull().sum()"
   ]
  },
  {
   "cell_type": "code",
   "execution_count": 6,
   "id": "c0e8552e",
   "metadata": {
    "execution": {
     "iopub.execute_input": "2021-10-21T19:29:31.177498Z",
     "iopub.status.busy": "2021-10-21T19:29:31.176801Z",
     "iopub.status.idle": "2021-10-21T19:29:31.179291Z",
     "shell.execute_reply": "2021-10-21T19:29:31.179791Z",
     "shell.execute_reply.started": "2021-10-21T19:16:51.303099Z"
    },
    "id": "pod8tueuFhw1",
    "outputId": "e45ab850-0fd2-4ed5-e181-c9d71dfb8b59",
    "papermill": {
     "duration": 0.070607,
     "end_time": "2021-10-21T19:29:31.179968",
     "exception": false,
     "start_time": "2021-10-21T19:29:31.109361",
     "status": "completed"
    },
    "tags": []
   },
   "outputs": [
    {
     "data": {
      "text/plain": [
       "id             0\n",
       "keyword       26\n",
       "location    1105\n",
       "text           0\n",
       "dtype: int64"
      ]
     },
     "execution_count": 6,
     "metadata": {},
     "output_type": "execute_result"
    }
   ],
   "source": [
    "test.isnull().sum()"
   ]
  },
  {
   "cell_type": "markdown",
   "id": "520e561d",
   "metadata": {
    "id": "7YEpsdQFKto-",
    "papermill": {
     "duration": 0.058919,
     "end_time": "2021-10-21T19:29:31.299180",
     "exception": false,
     "start_time": "2021-10-21T19:29:31.240261",
     "status": "completed"
    },
    "tags": []
   },
   "source": [
    "Check tags (words starting with @)"
   ]
  },
  {
   "cell_type": "code",
   "execution_count": 7,
   "id": "6de0548d",
   "metadata": {
    "execution": {
     "iopub.execute_input": "2021-10-21T19:29:31.422254Z",
     "iopub.status.busy": "2021-10-21T19:29:31.421589Z",
     "iopub.status.idle": "2021-10-21T19:29:31.440919Z",
     "shell.execute_reply": "2021-10-21T19:29:31.441429Z",
     "shell.execute_reply.started": "2021-10-21T19:16:53.485547Z"
    },
    "id": "CL_Meq0WFhw2",
    "outputId": "f45f49c4-c056-4147-d0ef-ccaa58b251d2",
    "papermill": {
     "duration": 0.082556,
     "end_time": "2021-10-21T19:29:31.441606",
     "exception": false,
     "start_time": "2021-10-21T19:29:31.359050",
     "status": "completed"
    },
    "tags": []
   },
   "outputs": [
    {
     "data": {
      "text/plain": [
       "False    6266\n",
       "True     1347\n",
       "Name: text, dtype: int64"
      ]
     },
     "execution_count": 7,
     "metadata": {},
     "output_type": "execute_result"
    }
   ],
   "source": [
    "train\n",
    "train['text'].str.startswith('@').value_counts()"
   ]
  },
  {
   "cell_type": "code",
   "execution_count": 8,
   "id": "fe821ef4",
   "metadata": {
    "execution": {
     "iopub.execute_input": "2021-10-21T19:29:31.575620Z",
     "iopub.status.busy": "2021-10-21T19:29:31.574901Z",
     "iopub.status.idle": "2021-10-21T19:29:31.588725Z",
     "shell.execute_reply": "2021-10-21T19:29:31.589292Z",
     "shell.execute_reply.started": "2021-10-21T19:16:01.920433Z"
    },
    "id": "dECP6C6oFhw3",
    "outputId": "5ae9b4fb-ffca-4ded-b604-8522b4475d96",
    "papermill": {
     "duration": 0.082727,
     "end_time": "2021-10-21T19:29:31.589484",
     "exception": false,
     "start_time": "2021-10-21T19:29:31.506757",
     "status": "completed"
    },
    "tags": []
   },
   "outputs": [
    {
     "data": {
      "text/html": [
       "<div>\n",
       "<style scoped>\n",
       "    .dataframe tbody tr th:only-of-type {\n",
       "        vertical-align: middle;\n",
       "    }\n",
       "\n",
       "    .dataframe tbody tr th {\n",
       "        vertical-align: top;\n",
       "    }\n",
       "\n",
       "    .dataframe thead th {\n",
       "        text-align: right;\n",
       "    }\n",
       "</style>\n",
       "<table border=\"1\" class=\"dataframe\">\n",
       "  <thead>\n",
       "    <tr style=\"text-align: right;\">\n",
       "      <th></th>\n",
       "      <th>id</th>\n",
       "      <th>keyword</th>\n",
       "      <th>location</th>\n",
       "      <th>text</th>\n",
       "      <th>target</th>\n",
       "    </tr>\n",
       "  </thead>\n",
       "  <tbody>\n",
       "    <tr>\n",
       "      <th>0</th>\n",
       "      <td>1</td>\n",
       "      <td>NaN</td>\n",
       "      <td>NaN</td>\n",
       "      <td>Our Deeds are the Reason of this #earthquake M...</td>\n",
       "      <td>1</td>\n",
       "    </tr>\n",
       "    <tr>\n",
       "      <th>1</th>\n",
       "      <td>4</td>\n",
       "      <td>NaN</td>\n",
       "      <td>NaN</td>\n",
       "      <td>Forest fire near La Ronge Sask. Canada</td>\n",
       "      <td>1</td>\n",
       "    </tr>\n",
       "    <tr>\n",
       "      <th>2</th>\n",
       "      <td>5</td>\n",
       "      <td>NaN</td>\n",
       "      <td>NaN</td>\n",
       "      <td>All residents asked to 'shelter in place' are ...</td>\n",
       "      <td>1</td>\n",
       "    </tr>\n",
       "    <tr>\n",
       "      <th>3</th>\n",
       "      <td>6</td>\n",
       "      <td>NaN</td>\n",
       "      <td>NaN</td>\n",
       "      <td>13,000 people receive #wildfires evacuation or...</td>\n",
       "      <td>1</td>\n",
       "    </tr>\n",
       "    <tr>\n",
       "      <th>4</th>\n",
       "      <td>7</td>\n",
       "      <td>NaN</td>\n",
       "      <td>NaN</td>\n",
       "      <td>Just got sent this photo from Ruby #Alaska as ...</td>\n",
       "      <td>1</td>\n",
       "    </tr>\n",
       "    <tr>\n",
       "      <th>...</th>\n",
       "      <td>...</td>\n",
       "      <td>...</td>\n",
       "      <td>...</td>\n",
       "      <td>...</td>\n",
       "      <td>...</td>\n",
       "    </tr>\n",
       "    <tr>\n",
       "      <th>7608</th>\n",
       "      <td>10869</td>\n",
       "      <td>NaN</td>\n",
       "      <td>NaN</td>\n",
       "      <td>Two giant cranes holding a bridge collapse int...</td>\n",
       "      <td>1</td>\n",
       "    </tr>\n",
       "    <tr>\n",
       "      <th>7609</th>\n",
       "      <td>10870</td>\n",
       "      <td>NaN</td>\n",
       "      <td>NaN</td>\n",
       "      <td>@aria_ahrary @TheTawniest The out of control w...</td>\n",
       "      <td>1</td>\n",
       "    </tr>\n",
       "    <tr>\n",
       "      <th>7610</th>\n",
       "      <td>10871</td>\n",
       "      <td>NaN</td>\n",
       "      <td>NaN</td>\n",
       "      <td>M1.94 [01:04 UTC]?5km S of Volcano Hawaii. htt...</td>\n",
       "      <td>1</td>\n",
       "    </tr>\n",
       "    <tr>\n",
       "      <th>7611</th>\n",
       "      <td>10872</td>\n",
       "      <td>NaN</td>\n",
       "      <td>NaN</td>\n",
       "      <td>Police investigating after an e-bike collided ...</td>\n",
       "      <td>1</td>\n",
       "    </tr>\n",
       "    <tr>\n",
       "      <th>7612</th>\n",
       "      <td>10873</td>\n",
       "      <td>NaN</td>\n",
       "      <td>NaN</td>\n",
       "      <td>The Latest: More Homes Razed by Northern Calif...</td>\n",
       "      <td>1</td>\n",
       "    </tr>\n",
       "  </tbody>\n",
       "</table>\n",
       "<p>7613 rows × 5 columns</p>\n",
       "</div>"
      ],
      "text/plain": [
       "         id keyword location  \\\n",
       "0         1     NaN      NaN   \n",
       "1         4     NaN      NaN   \n",
       "2         5     NaN      NaN   \n",
       "3         6     NaN      NaN   \n",
       "4         7     NaN      NaN   \n",
       "...     ...     ...      ...   \n",
       "7608  10869     NaN      NaN   \n",
       "7609  10870     NaN      NaN   \n",
       "7610  10871     NaN      NaN   \n",
       "7611  10872     NaN      NaN   \n",
       "7612  10873     NaN      NaN   \n",
       "\n",
       "                                                   text  target  \n",
       "0     Our Deeds are the Reason of this #earthquake M...       1  \n",
       "1                Forest fire near La Ronge Sask. Canada       1  \n",
       "2     All residents asked to 'shelter in place' are ...       1  \n",
       "3     13,000 people receive #wildfires evacuation or...       1  \n",
       "4     Just got sent this photo from Ruby #Alaska as ...       1  \n",
       "...                                                 ...     ...  \n",
       "7608  Two giant cranes holding a bridge collapse int...       1  \n",
       "7609  @aria_ahrary @TheTawniest The out of control w...       1  \n",
       "7610  M1.94 [01:04 UTC]?5km S of Volcano Hawaii. htt...       1  \n",
       "7611  Police investigating after an e-bike collided ...       1  \n",
       "7612  The Latest: More Homes Razed by Northern Calif...       1  \n",
       "\n",
       "[7613 rows x 5 columns]"
      ]
     },
     "execution_count": 8,
     "metadata": {},
     "output_type": "execute_result"
    }
   ],
   "source": [
    "train"
   ]
  },
  {
   "cell_type": "markdown",
   "id": "16ed3fd4",
   "metadata": {
    "id": "mJc0jwS9KyeF",
    "papermill": {
     "duration": 0.059901,
     "end_time": "2021-10-21T19:29:31.712758",
     "exception": false,
     "start_time": "2021-10-21T19:29:31.652857",
     "status": "completed"
    },
    "tags": []
   },
   "source": [
    "Just see unique keywords"
   ]
  },
  {
   "cell_type": "code",
   "execution_count": 9,
   "id": "1c217313",
   "metadata": {
    "execution": {
     "iopub.execute_input": "2021-10-21T19:29:31.845393Z",
     "iopub.status.busy": "2021-10-21T19:29:31.844684Z",
     "iopub.status.idle": "2021-10-21T19:29:31.847366Z",
     "shell.execute_reply": "2021-10-21T19:29:31.847954Z",
     "shell.execute_reply.started": "2021-10-21T19:16:56.867933Z"
    },
    "id": "reWx_-8RFhw3",
    "outputId": "31706f3e-85f5-47e6-fb28-030a20159b7f",
    "papermill": {
     "duration": 0.07453,
     "end_time": "2021-10-21T19:29:31.848136",
     "exception": false,
     "start_time": "2021-10-21T19:29:31.773606",
     "status": "completed"
    },
    "tags": []
   },
   "outputs": [
    {
     "data": {
      "text/plain": [
       "array([nan, 'ablaze', 'accident', 'aftershock', 'airplane%20accident',\n",
       "       'ambulance', 'annihilated', 'annihilation', 'apocalypse',\n",
       "       'armageddon', 'army', 'arson', 'arsonist', 'attack', 'attacked',\n",
       "       'avalanche', 'battle', 'bioterror', 'bioterrorism', 'blaze',\n",
       "       'blazing', 'bleeding', 'blew%20up', 'blight', 'blizzard', 'blood',\n",
       "       'bloody', 'blown%20up', 'body%20bag', 'body%20bagging',\n",
       "       'body%20bags', 'bomb', 'bombed', 'bombing', 'bridge%20collapse',\n",
       "       'buildings%20burning', 'buildings%20on%20fire', 'burned',\n",
       "       'burning', 'burning%20buildings', 'bush%20fires', 'casualties',\n",
       "       'casualty', 'catastrophe', 'catastrophic', 'chemical%20emergency',\n",
       "       'cliff%20fall', 'collapse', 'collapsed', 'collide', 'collided',\n",
       "       'collision', 'crash', 'crashed', 'crush', 'crushed', 'curfew',\n",
       "       'cyclone', 'damage', 'danger', 'dead', 'death', 'deaths', 'debris',\n",
       "       'deluge', 'deluged', 'demolish', 'demolished', 'demolition',\n",
       "       'derail', 'derailed', 'derailment', 'desolate', 'desolation',\n",
       "       'destroy', 'destroyed', 'destruction', 'detonate', 'detonation',\n",
       "       'devastated', 'devastation', 'disaster', 'displaced', 'drought',\n",
       "       'drown', 'drowned', 'drowning', 'dust%20storm', 'earthquake',\n",
       "       'electrocute', 'electrocuted', 'emergency', 'emergency%20plan',\n",
       "       'emergency%20services', 'engulfed', 'epicentre', 'evacuate',\n",
       "       'evacuated', 'evacuation', 'explode', 'exploded', 'explosion',\n",
       "       'eyewitness', 'famine', 'fatal', 'fatalities', 'fatality', 'fear',\n",
       "       'fire', 'fire%20truck', 'first%20responders', 'flames',\n",
       "       'flattened', 'flood', 'flooding', 'floods', 'forest%20fire',\n",
       "       'forest%20fires', 'hail', 'hailstorm', 'harm', 'hazard',\n",
       "       'hazardous', 'heat%20wave', 'hellfire', 'hijack', 'hijacker',\n",
       "       'hijacking', 'hostage', 'hostages', 'hurricane', 'injured',\n",
       "       'injuries', 'injury', 'inundated', 'inundation', 'landslide',\n",
       "       'lava', 'lightning', 'loud%20bang', 'mass%20murder',\n",
       "       'mass%20murderer', 'massacre', 'mayhem', 'meltdown', 'military',\n",
       "       'mudslide', 'natural%20disaster', 'nuclear%20disaster',\n",
       "       'nuclear%20reactor', 'obliterate', 'obliterated', 'obliteration',\n",
       "       'oil%20spill', 'outbreak', 'pandemonium', 'panic', 'panicking',\n",
       "       'police', 'quarantine', 'quarantined', 'radiation%20emergency',\n",
       "       'rainstorm', 'razed', 'refugees', 'rescue', 'rescued', 'rescuers',\n",
       "       'riot', 'rioting', 'rubble', 'ruin', 'sandstorm', 'screamed',\n",
       "       'screaming', 'screams', 'seismic', 'sinkhole', 'sinking', 'siren',\n",
       "       'sirens', 'smoke', 'snowstorm', 'storm', 'stretcher',\n",
       "       'structural%20failure', 'suicide%20bomb', 'suicide%20bomber',\n",
       "       'suicide%20bombing', 'sunk', 'survive', 'survived', 'survivors',\n",
       "       'terrorism', 'terrorist', 'threat', 'thunder', 'thunderstorm',\n",
       "       'tornado', 'tragedy', 'trapped', 'trauma', 'traumatised',\n",
       "       'trouble', 'tsunami', 'twister', 'typhoon', 'upheaval',\n",
       "       'violent%20storm', 'volcano', 'war%20zone', 'weapon', 'weapons',\n",
       "       'whirlwind', 'wild%20fires', 'wildfire', 'windstorm', 'wounded',\n",
       "       'wounds', 'wreck', 'wreckage', 'wrecked'], dtype=object)"
      ]
     },
     "execution_count": 9,
     "metadata": {},
     "output_type": "execute_result"
    }
   ],
   "source": [
    "train['keyword'].unique()"
   ]
  },
  {
   "cell_type": "markdown",
   "id": "1ad9d36f",
   "metadata": {
    "id": "--HZSnyBK5UM",
    "papermill": {
     "duration": 0.061193,
     "end_time": "2021-10-21T19:29:31.970892",
     "exception": false,
     "start_time": "2021-10-21T19:29:31.909699",
     "status": "completed"
    },
    "tags": []
   },
   "source": [
    "Visualizations"
   ]
  },
  {
   "cell_type": "code",
   "execution_count": 10,
   "id": "5f13875e",
   "metadata": {
    "execution": {
     "iopub.execute_input": "2021-10-21T19:29:32.097455Z",
     "iopub.status.busy": "2021-10-21T19:29:32.096788Z",
     "iopub.status.idle": "2021-10-21T19:29:32.219025Z",
     "shell.execute_reply": "2021-10-21T19:29:32.218416Z",
     "shell.execute_reply.started": "2021-10-21T19:16:58.498828Z"
    },
    "id": "9HAp3tYbFhw4",
    "outputId": "a42ebaf9-dc8f-4080-b494-6ce3f1487872",
    "papermill": {
     "duration": 0.185927,
     "end_time": "2021-10-21T19:29:32.219181",
     "exception": false,
     "start_time": "2021-10-21T19:29:32.033254",
     "status": "completed"
    },
    "tags": []
   },
   "outputs": [
    {
     "data": {
      "image/png": "[encoded data removed]",
      "text/plain": [
       "<Figure size 432x288 with 1 Axes>"
      ]
     },
     "metadata": {},
     "output_type": "display_data"
    }
   ],
   "source": [
    "colors = sns.color_palette('viridis')\n",
    "\n",
    "plt.pie(train['target'].value_counts(), labels=['Non disaster', 'Disaster'], autopct='%.0f%%', colors = colors)\n",
    "plt.show()"
   ]
  },
  {
   "cell_type": "code",
   "execution_count": 11,
   "id": "f5869957",
   "metadata": {
    "execution": {
     "iopub.execute_input": "2021-10-21T19:29:32.459922Z",
     "iopub.status.busy": "2021-10-21T19:29:32.459188Z",
     "iopub.status.idle": "2021-10-21T19:29:33.056491Z",
     "shell.execute_reply": "2021-10-21T19:29:33.055866Z",
     "shell.execute_reply.started": "2021-10-21T19:16:59.759387Z"
    },
    "id": "MrSj7bPyFhw4",
    "outputId": "f10ce86a-2226-42b0-8d49-1f44098afacc",
    "papermill": {
     "duration": 0.775076,
     "end_time": "2021-10-21T19:29:33.056636",
     "exception": false,
     "start_time": "2021-10-21T19:29:32.281560",
     "status": "completed"
    },
    "tags": []
   },
   "outputs": [
    {
     "data": {
      "image/png": "[encoded data removed]",
      "text/plain": [
       "<Figure size 1080x648 with 1 Axes>"
      ]
     },
     "metadata": {
      "needs_background": "light"
     },
     "output_type": "display_data"
    }
   ],
   "source": [
    "plt.figure(figsize=(15,9))\n",
    "sns.set(font_scale = 1)\n",
    "plt.title('Number of occurancies of 30 First keywords')\n",
    "ax = sns.barplot(x=train[\"keyword\"].value_counts()[:30].index, y=train[\"keyword\"].value_counts()[:30], data=train)\n",
    "ax.tick_params(axis='x', rotation=90)"
   ]
  },
  {
   "cell_type": "code",
   "execution_count": 12,
   "id": "1736a87c",
   "metadata": {
    "execution": {
     "iopub.execute_input": "2021-10-21T19:29:33.193053Z",
     "iopub.status.busy": "2021-10-21T19:29:33.188993Z",
     "iopub.status.idle": "2021-10-21T19:29:33.704116Z",
     "shell.execute_reply": "2021-10-21T19:29:33.704623Z",
     "shell.execute_reply.started": "2021-10-21T19:17:02.18209Z"
    },
    "id": "XX9eqqHvFhw5",
    "outputId": "93cd1715-3518-476c-ea0f-a76b0f3e38d8",
    "papermill": {
     "duration": 0.584819,
     "end_time": "2021-10-21T19:29:33.704836",
     "exception": false,
     "start_time": "2021-10-21T19:29:33.120017",
     "status": "completed"
    },
    "tags": []
   },
   "outputs": [
    {
     "data": {
      "image/png": "[encoded data removed]",
      "text/plain": [
       "<Figure size 1080x648 with 1 Axes>"
      ]
     },
     "metadata": {},
     "output_type": "display_data"
    }
   ],
   "source": [
    "plt.figure(figsize=(15,9))\n",
    "bx = sns.barplot(x=train['location'].value_counts()[:30].index,y=train['location'].value_counts()[:30])\n",
    "bx.tick_params(axis='x', rotation=90)\n",
    "\n",
    "plt.title('30 Top locations')\n",
    "plt.show()"
   ]
  },
  {
   "cell_type": "code",
   "execution_count": 13,
   "id": "be251de7",
   "metadata": {
    "execution": {
     "iopub.execute_input": "2021-10-21T19:29:33.842592Z",
     "iopub.status.busy": "2021-10-21T19:29:33.841915Z",
     "iopub.status.idle": "2021-10-21T19:29:35.115918Z",
     "shell.execute_reply": "2021-10-21T19:29:35.115238Z",
     "shell.execute_reply.started": "2021-10-21T19:17:04.404496Z"
    },
    "id": "bq28rBSYFhw5",
    "outputId": "2ae331d3-57c9-4fea-d017-d0a5126b8f8e",
    "papermill": {
     "duration": 1.346723,
     "end_time": "2021-10-21T19:29:35.116062",
     "exception": false,
     "start_time": "2021-10-21T19:29:33.769339",
     "status": "completed"
    },
    "tags": []
   },
   "outputs": [
    {
     "data": {
      "image/png": "[encoded data removed]",
      "text/plain": [
       "<Figure size 1080x648 with 1 Axes>"
      ]
     },
     "metadata": {},
     "output_type": "display_data"
    },
    {
     "data": {
      "image/png": "[encoded data removed]",
      "text/plain": [
       "<Figure size 1080x648 with 1 Axes>"
      ]
     },
     "metadata": {},
     "output_type": "display_data"
    }
   ],
   "source": [
    "disaster = train.loc[train[\"target\"] == 1][\"keyword\"].value_counts()\n",
    "nondisaster = train.loc[train[\"target\"] == 0][\"keyword\"].value_counts()\n",
    "\n",
    "plt.figure(figsize=(15,9))\n",
    "cx = sns.barplot(x=disaster[:30].index, y=disaster[:30], palette = 'cubehelix')\n",
    "cx.tick_params(axis='x', rotation=90)\n",
    "\n",
    "plt.figure(figsize=(15,9))\n",
    "dx = sns.barplot(x=nondisaster[:30].index, y=nondisaster[:30], palette = 'magma')\n",
    "dx.tick_params(axis='x', rotation=90)\n"
   ]
  },
  {
   "cell_type": "markdown",
   "id": "67d03da1",
   "metadata": {
    "papermill": {
     "duration": 0.067541,
     "end_time": "2021-10-21T19:29:35.250851",
     "exception": false,
     "start_time": "2021-10-21T19:29:35.183310",
     "status": "completed"
    },
    "tags": []
   },
   "source": [
    "Fill NaN values with empty strings"
   ]
  },
  {
   "cell_type": "code",
   "execution_count": 14,
   "id": "fc0e377a",
   "metadata": {
    "execution": {
     "iopub.execute_input": "2021-10-21T19:29:35.392862Z",
     "iopub.status.busy": "2021-10-21T19:29:35.392005Z",
     "iopub.status.idle": "2021-10-21T19:29:35.401370Z",
     "shell.execute_reply": "2021-10-21T19:29:35.401933Z",
     "shell.execute_reply.started": "2021-10-21T19:18:02.877082Z"
    },
    "papermill": {
     "duration": 0.081512,
     "end_time": "2021-10-21T19:29:35.402119",
     "exception": false,
     "start_time": "2021-10-21T19:29:35.320607",
     "status": "completed"
    },
    "tags": []
   },
   "outputs": [],
   "source": [
    "train.fillna('', inplace=True)\n",
    "test.fillna('', inplace=True)"
   ]
  },
  {
   "cell_type": "markdown",
   "id": "3bc0806c",
   "metadata": {
    "id": "VoB0iImBK_o5",
    "papermill": {
     "duration": 0.06695,
     "end_time": "2021-10-21T19:29:35.536507",
     "exception": false,
     "start_time": "2021-10-21T19:29:35.469557",
     "status": "completed"
    },
    "tags": []
   },
   "source": [
    "TEXT PREPROCESSING (lower, remove digits and specific chars, remove urls)"
   ]
  },
  {
   "cell_type": "code",
   "execution_count": 15,
   "id": "31f486e9",
   "metadata": {
    "execution": {
     "iopub.execute_input": "2021-10-21T19:29:35.676417Z",
     "iopub.status.busy": "2021-10-21T19:29:35.675731Z",
     "iopub.status.idle": "2021-10-21T19:29:35.695322Z",
     "shell.execute_reply": "2021-10-21T19:29:35.694727Z",
     "shell.execute_reply.started": "2021-10-21T19:18:04.299193Z"
    },
    "id": "qzeqlDN3Fhw5",
    "papermill": {
     "duration": 0.090458,
     "end_time": "2021-10-21T19:29:35.695482",
     "exception": false,
     "start_time": "2021-10-21T19:29:35.605024",
     "status": "completed"
    },
    "tags": []
   },
   "outputs": [],
   "source": [
    "train['text'] = train['text'].apply(lambda x: x.lower())\n",
    "test['text'] = test['text'].apply(lambda x: x.lower())\n",
    "\n",
    "train['location'] = train['location'].apply(lambda x: x.lower())\n",
    "test['location'] = test['location'].apply(lambda x: x.lower())"
   ]
  },
  {
   "cell_type": "code",
   "execution_count": 16,
   "id": "bfd0cbaf",
   "metadata": {
    "execution": {
     "iopub.execute_input": "2021-10-21T19:29:35.837612Z",
     "iopub.status.busy": "2021-10-21T19:29:35.836722Z",
     "iopub.status.idle": "2021-10-21T19:29:36.144580Z",
     "shell.execute_reply": "2021-10-21T19:29:36.145104Z",
     "shell.execute_reply.started": "2021-10-21T19:18:05.324607Z"
    },
    "id": "aMAVcYXrFhw6",
    "papermill": {
     "duration": 0.381417,
     "end_time": "2021-10-21T19:29:36.145294",
     "exception": false,
     "start_time": "2021-10-21T19:29:35.763877",
     "status": "completed"
    },
    "tags": []
   },
   "outputs": [],
   "source": [
    "train['text']=train['text'].apply(lambda x: re.sub('\\w*\\d\\w*','', x))\n",
    "test['text']=test['text'].apply(lambda x: re.sub('\\w*\\d\\w*','', x))\n",
    "\n",
    "train['location']=train['location'].apply(lambda x: re.sub('\\w*\\d\\w*','', str(x)))\n",
    "test['location']=test['location'].apply(lambda x: re.sub('\\w*\\d\\w*','', str(x)))"
   ]
  },
  {
   "cell_type": "code",
   "execution_count": 17,
   "id": "21765209",
   "metadata": {
    "execution": {
     "iopub.execute_input": "2021-10-21T19:29:36.286156Z",
     "iopub.status.busy": "2021-10-21T19:29:36.285362Z",
     "iopub.status.idle": "2021-10-21T19:29:36.453374Z",
     "shell.execute_reply": "2021-10-21T19:29:36.452774Z",
     "shell.execute_reply.started": "2021-10-21T19:18:06.134446Z"
    },
    "id": "7g9nI5xgFhw6",
    "papermill": {
     "duration": 0.239904,
     "end_time": "2021-10-21T19:29:36.453535",
     "exception": false,
     "start_time": "2021-10-21T19:29:36.213631",
     "status": "completed"
    },
    "tags": []
   },
   "outputs": [],
   "source": [
    "train['text']=train['text'].apply(lambda x: re.sub('[%s]' % re.escape(string.punctuation), '', x))\n",
    "test['text']=test['text'].apply(lambda x: re.sub('[%s]' % re.escape(string.punctuation), '', x))\n",
    "\n",
    "train['location']=train['location'].apply(lambda x: re.sub('[%s]' % re.escape(string.punctuation), '', str(x)))\n",
    "test['location']=test['location'].apply(lambda x: re.sub('[%s]' % re.escape(string.punctuation), '', str(x)))"
   ]
  },
  {
   "cell_type": "code",
   "execution_count": 18,
   "id": "e8a70f48",
   "metadata": {
    "execution": {
     "iopub.execute_input": "2021-10-21T19:29:36.603902Z",
     "iopub.status.busy": "2021-10-21T19:29:36.603123Z",
     "iopub.status.idle": "2021-10-21T19:29:36.693336Z",
     "shell.execute_reply": "2021-10-21T19:29:36.692428Z",
     "shell.execute_reply.started": "2021-10-21T19:18:07.206202Z"
    },
    "id": "Y1kHKRgAFhw6",
    "papermill": {
     "duration": 0.172486,
     "end_time": "2021-10-21T19:29:36.693528",
     "exception": false,
     "start_time": "2021-10-21T19:29:36.521042",
     "status": "completed"
    },
    "tags": []
   },
   "outputs": [
    {
     "name": "stderr",
     "output_type": "stream",
     "text": [
      "/opt/conda/lib/python3.7/site-packages/ipykernel_launcher.py:1: FutureWarning: The default value of regex will change from True to False in a future version.\n",
      "  \"\"\"Entry point for launching an IPython kernel.\n",
      "/opt/conda/lib/python3.7/site-packages/ipykernel_launcher.py:2: FutureWarning: The default value of regex will change from True to False in a future version.\n",
      "  \n",
      "/opt/conda/lib/python3.7/site-packages/ipykernel_launcher.py:4: FutureWarning: The default value of regex will change from True to False in a future version.\n",
      "  after removing the cwd from sys.path.\n",
      "/opt/conda/lib/python3.7/site-packages/ipykernel_launcher.py:5: FutureWarning: The default value of regex will change from True to False in a future version.\n",
      "  \"\"\"\n"
     ]
    }
   ],
   "source": [
    "train['text'] = train['text'].str.replace('http\\S+|www.\\S+', '', case=False)\n",
    "test['text'] = test['text'].str.replace('http\\S+|www.\\S+', '', case=False)\n",
    "\n",
    "train['text'] = train['text'].str.replace('@\\S+', '', case=False)\n",
    "test['text'] = test['text'].str.replace('@\\S+', '', case=False)"
   ]
  },
  {
   "cell_type": "code",
   "execution_count": 19,
   "id": "0ee5effa",
   "metadata": {
    "execution": {
     "iopub.execute_input": "2021-10-21T19:29:36.837231Z",
     "iopub.status.busy": "2021-10-21T19:29:36.836459Z",
     "iopub.status.idle": "2021-10-21T19:29:37.032307Z",
     "shell.execute_reply": "2021-10-21T19:29:37.031275Z",
     "shell.execute_reply.started": "2021-10-21T19:18:13.142011Z"
    },
    "id": "YAi0cgplFhw7",
    "papermill": {
     "duration": 0.26893,
     "end_time": "2021-10-21T19:29:37.032469",
     "exception": false,
     "start_time": "2021-10-21T19:29:36.763539",
     "status": "completed"
    },
    "tags": []
   },
   "outputs": [],
   "source": [
    "from sklearn.model_selection import train_test_split\n",
    "from sklearn.feature_extraction.text import CountVectorizer, TfidfVectorizer"
   ]
  },
  {
   "cell_type": "markdown",
   "id": "f8c21109",
   "metadata": {
    "id": "o-En20WWLJAd",
    "papermill": {
     "duration": 0.06721,
     "end_time": "2021-10-21T19:29:37.169083",
     "exception": false,
     "start_time": "2021-10-21T19:29:37.101873",
     "status": "completed"
    },
    "tags": []
   },
   "source": [
    "Creating a new column 'soup', in which text and location is stored for more information in the final model"
   ]
  },
  {
   "cell_type": "code",
   "execution_count": 20,
   "id": "4d9cac42",
   "metadata": {
    "execution": {
     "iopub.execute_input": "2021-10-21T19:29:37.308591Z",
     "iopub.status.busy": "2021-10-21T19:29:37.307560Z",
     "iopub.status.idle": "2021-10-21T19:29:37.312137Z",
     "shell.execute_reply": "2021-10-21T19:29:37.312820Z",
     "shell.execute_reply.started": "2021-10-21T19:18:15.134885Z"
    },
    "id": "3DCuYYlXFhw7",
    "papermill": {
     "duration": 0.076199,
     "end_time": "2021-10-21T19:29:37.313012",
     "exception": false,
     "start_time": "2021-10-21T19:29:37.236813",
     "status": "completed"
    },
    "tags": []
   },
   "outputs": [],
   "source": [
    "def create_soup(x):\n",
    "    return x['location'] + ' ' + x['text']"
   ]
  },
  {
   "cell_type": "code",
   "execution_count": 21,
   "id": "5ba79c42",
   "metadata": {
    "execution": {
     "iopub.execute_input": "2021-10-21T19:29:37.453882Z",
     "iopub.status.busy": "2021-10-21T19:29:37.452855Z",
     "iopub.status.idle": "2021-10-21T19:29:37.458994Z",
     "shell.execute_reply": "2021-10-21T19:29:37.459574Z",
     "shell.execute_reply.started": "2021-10-21T19:18:20.879864Z"
    },
    "id": "-rkz5ERRFhw7",
    "papermill": {
     "duration": 0.078054,
     "end_time": "2021-10-21T19:29:37.459776",
     "exception": false,
     "start_time": "2021-10-21T19:29:37.381722",
     "status": "completed"
    },
    "tags": []
   },
   "outputs": [],
   "source": [
    "df1 = train\n",
    "features=['location','text']\n",
    "df1 = df1[features]"
   ]
  },
  {
   "cell_type": "code",
   "execution_count": 22,
   "id": "5052538e",
   "metadata": {
    "execution": {
     "iopub.execute_input": "2021-10-21T19:29:37.598560Z",
     "iopub.status.busy": "2021-10-21T19:29:37.597401Z",
     "iopub.status.idle": "2021-10-21T19:29:37.602934Z",
     "shell.execute_reply": "2021-10-21T19:29:37.603491Z",
     "shell.execute_reply.started": "2021-10-21T19:18:21.653962Z"
    },
    "id": "C7TjWsjgnImT",
    "papermill": {
     "duration": 0.0765,
     "end_time": "2021-10-21T19:29:37.603700",
     "exception": false,
     "start_time": "2021-10-21T19:29:37.527200",
     "status": "completed"
    },
    "tags": []
   },
   "outputs": [],
   "source": [
    "df2 = test\n",
    "df2 = df2[features]"
   ]
  },
  {
   "cell_type": "code",
   "execution_count": 23,
   "id": "d9c11bd8",
   "metadata": {
    "execution": {
     "iopub.execute_input": "2021-10-21T19:29:37.745262Z",
     "iopub.status.busy": "2021-10-21T19:29:37.744238Z",
     "iopub.status.idle": "2021-10-21T19:29:37.896273Z",
     "shell.execute_reply": "2021-10-21T19:29:37.896874Z",
     "shell.execute_reply.started": "2021-10-21T19:18:23.001573Z"
    },
    "id": "VDR45YPSFhw7",
    "outputId": "1afb959d-a479-4e66-985b-1df78a00cc7e",
    "papermill": {
     "duration": 0.224268,
     "end_time": "2021-10-21T19:29:37.897055",
     "exception": false,
     "start_time": "2021-10-21T19:29:37.672787",
     "status": "completed"
    },
    "scrolled": true,
    "tags": []
   },
   "outputs": [
    {
     "name": "stderr",
     "output_type": "stream",
     "text": [
      "/opt/conda/lib/python3.7/site-packages/ipykernel_launcher.py:1: SettingWithCopyWarning: \n",
      "A value is trying to be set on a copy of a slice from a DataFrame.\n",
      "Try using .loc[row_indexer,col_indexer] = value instead\n",
      "\n",
      "See the caveats in the documentation: https://pandas.pydata.org/pandas-docs/stable/user_guide/indexing.html#returning-a-view-versus-a-copy\n",
      "  \"\"\"Entry point for launching an IPython kernel.\n"
     ]
    }
   ],
   "source": [
    "df1['soup'] = df1.apply(create_soup, axis=1)"
   ]
  },
  {
   "cell_type": "code",
   "execution_count": 24,
   "id": "149505ba",
   "metadata": {
    "execution": {
     "iopub.execute_input": "2021-10-21T19:29:38.042874Z",
     "iopub.status.busy": "2021-10-21T19:29:38.042179Z",
     "iopub.status.idle": "2021-10-21T19:29:38.110409Z",
     "shell.execute_reply": "2021-10-21T19:29:38.110933Z",
     "shell.execute_reply.started": "2021-10-21T19:18:23.489605Z"
    },
    "id": "X-m2jbhenPt3",
    "outputId": "a894c0d6-6f0d-4758-c9d2-d597c5a2d0fc",
    "papermill": {
     "duration": 0.145678,
     "end_time": "2021-10-21T19:29:38.111148",
     "exception": false,
     "start_time": "2021-10-21T19:29:37.965470",
     "status": "completed"
    },
    "tags": []
   },
   "outputs": [
    {
     "name": "stderr",
     "output_type": "stream",
     "text": [
      "/opt/conda/lib/python3.7/site-packages/ipykernel_launcher.py:1: SettingWithCopyWarning: \n",
      "A value is trying to be set on a copy of a slice from a DataFrame.\n",
      "Try using .loc[row_indexer,col_indexer] = value instead\n",
      "\n",
      "See the caveats in the documentation: https://pandas.pydata.org/pandas-docs/stable/user_guide/indexing.html#returning-a-view-versus-a-copy\n",
      "  \"\"\"Entry point for launching an IPython kernel.\n"
     ]
    }
   ],
   "source": [
    "df2['soup'] = df2.apply(create_soup, axis=1)"
   ]
  },
  {
   "cell_type": "code",
   "execution_count": 25,
   "id": "f129fa8f",
   "metadata": {
    "execution": {
     "iopub.execute_input": "2021-10-21T19:29:38.255350Z",
     "iopub.status.busy": "2021-10-21T19:29:38.254307Z",
     "iopub.status.idle": "2021-10-21T19:29:38.257475Z",
     "shell.execute_reply": "2021-10-21T19:29:38.256924Z",
     "shell.execute_reply.started": "2021-10-21T19:18:36.495407Z"
    },
    "id": "LWa7aaWUFhw7",
    "papermill": {
     "duration": 0.076316,
     "end_time": "2021-10-21T19:29:38.257620",
     "exception": false,
     "start_time": "2021-10-21T19:29:38.181304",
     "status": "completed"
    },
    "tags": []
   },
   "outputs": [],
   "source": [
    "y = train['target']\n",
    "\n",
    "X = df1['soup']\n",
    "#X = train['text']"
   ]
  },
  {
   "cell_type": "code",
   "execution_count": 26,
   "id": "97696f2b",
   "metadata": {
    "execution": {
     "iopub.execute_input": "2021-10-21T19:29:38.401847Z",
     "iopub.status.busy": "2021-10-21T19:29:38.401124Z",
     "iopub.status.idle": "2021-10-21T19:29:38.404200Z",
     "shell.execute_reply": "2021-10-21T19:29:38.403633Z",
     "shell.execute_reply.started": "2021-10-21T19:18:42.767617Z"
    },
    "id": "nMAxOmRKnDA9",
    "papermill": {
     "duration": 0.077499,
     "end_time": "2021-10-21T19:29:38.404365",
     "exception": false,
     "start_time": "2021-10-21T19:29:38.326866",
     "status": "completed"
    },
    "tags": []
   },
   "outputs": [],
   "source": [
    "#X_te = test['text']\n",
    "X_te = df2['soup']"
   ]
  },
  {
   "cell_type": "code",
   "execution_count": 27,
   "id": "a5865a78",
   "metadata": {
    "execution": {
     "iopub.execute_input": "2021-10-21T19:29:38.546299Z",
     "iopub.status.busy": "2021-10-21T19:29:38.545228Z",
     "iopub.status.idle": "2021-10-21T19:29:38.552857Z",
     "shell.execute_reply": "2021-10-21T19:29:38.553333Z",
     "shell.execute_reply.started": "2021-10-21T19:18:45.234626Z"
    },
    "id": "AEmczSxSFhw8",
    "outputId": "4aa0d5d2-344d-4e99-a94a-2a8675dbcad8",
    "papermill": {
     "duration": 0.079633,
     "end_time": "2021-10-21T19:29:38.553527",
     "exception": false,
     "start_time": "2021-10-21T19:29:38.473894",
     "status": "completed"
    },
    "tags": []
   },
   "outputs": [
    {
     "data": {
      "text/plain": [
       "0       1\n",
       "1       1\n",
       "2       1\n",
       "3       1\n",
       "4       1\n",
       "       ..\n",
       "7608    1\n",
       "7609    1\n",
       "7610    1\n",
       "7611    1\n",
       "7612    1\n",
       "Name: target, Length: 7613, dtype: int64"
      ]
     },
     "execution_count": 27,
     "metadata": {},
     "output_type": "execute_result"
    }
   ],
   "source": [
    "y"
   ]
  },
  {
   "cell_type": "code",
   "execution_count": 28,
   "id": "7503a353",
   "metadata": {
    "execution": {
     "iopub.execute_input": "2021-10-21T19:29:38.696223Z",
     "iopub.status.busy": "2021-10-21T19:29:38.695168Z",
     "iopub.status.idle": "2021-10-21T19:29:38.702374Z",
     "shell.execute_reply": "2021-10-21T19:29:38.702961Z",
     "shell.execute_reply.started": "2021-10-21T19:18:46.875258Z"
    },
    "id": "Q1p3i4a9Fhw8",
    "outputId": "d70d65c1-4b6e-4ff5-cb00-273c6e256df1",
    "papermill": {
     "duration": 0.080036,
     "end_time": "2021-10-21T19:29:38.703139",
     "exception": false,
     "start_time": "2021-10-21T19:29:38.623103",
     "status": "completed"
    },
    "tags": []
   },
   "outputs": [
    {
     "data": {
      "text/plain": [
       "0        our deeds are the reason of this earthquake m...\n",
       "1                   forest fire near la ronge sask canada\n",
       "2        all residents asked to shelter in place are b...\n",
       "3         people receive wildfires evacuation orders i...\n",
       "4        just got sent this photo from ruby alaska as ...\n",
       "                              ...                        \n",
       "7608     two giant cranes holding a bridge collapse in...\n",
       "7609     ariaahrary thetawniest the out of control wil...\n",
       "7610                             utc s of volcano hawaii \n",
       "7611     police investigating after an ebike collided ...\n",
       "7612     the latest more homes razed by northern calif...\n",
       "Name: soup, Length: 7613, dtype: object"
      ]
     },
     "execution_count": 28,
     "metadata": {},
     "output_type": "execute_result"
    }
   ],
   "source": [
    "X"
   ]
  },
  {
   "cell_type": "markdown",
   "id": "b9ff6980",
   "metadata": {
    "id": "PLvSVNiFLTeG",
    "papermill": {
     "duration": 0.069385,
     "end_time": "2021-10-21T19:29:38.841508",
     "exception": false,
     "start_time": "2021-10-21T19:29:38.772123",
     "status": "completed"
    },
    "tags": []
   },
   "source": [
    "Split train dataframe in train and validation set with observations and labels (80-20%)"
   ]
  },
  {
   "cell_type": "code",
   "execution_count": 29,
   "id": "61233ce5",
   "metadata": {
    "execution": {
     "iopub.execute_input": "2021-10-21T19:29:38.991340Z",
     "iopub.status.busy": "2021-10-21T19:29:38.990433Z",
     "iopub.status.idle": "2021-10-21T19:29:38.993382Z",
     "shell.execute_reply": "2021-10-21T19:29:38.993913Z",
     "shell.execute_reply.started": "2021-10-21T19:18:50.621567Z"
    },
    "id": "SHxde_NHFhw8",
    "papermill": {
     "duration": 0.083358,
     "end_time": "2021-10-21T19:29:38.994103",
     "exception": false,
     "start_time": "2021-10-21T19:29:38.910745",
     "status": "completed"
    },
    "tags": []
   },
   "outputs": [],
   "source": [
    "X_train, X_test, y_train, y_test = train_test_split(X, y, test_size=0.2, random_state=42)"
   ]
  },
  {
   "cell_type": "code",
   "execution_count": 30,
   "id": "ab58c40d",
   "metadata": {
    "execution": {
     "iopub.execute_input": "2021-10-21T19:29:39.166964Z",
     "iopub.status.busy": "2021-10-21T19:29:39.166096Z",
     "iopub.status.idle": "2021-10-21T19:29:39.170114Z",
     "shell.execute_reply": "2021-10-21T19:29:39.169469Z",
     "shell.execute_reply.started": "2021-10-21T19:18:52.831916Z"
    },
    "id": "7FV98MHLFhw8",
    "outputId": "75efc85e-72b9-487e-d076-49feaa99cac4",
    "papermill": {
     "duration": 0.088715,
     "end_time": "2021-10-21T19:29:39.170281",
     "exception": false,
     "start_time": "2021-10-21T19:29:39.081566",
     "status": "completed"
    },
    "tags": []
   },
   "outputs": [
    {
     "name": "stdout",
     "output_type": "stream",
     "text": [
      "6090\n"
     ]
    }
   ],
   "source": [
    "print(len(X_train))"
   ]
  },
  {
   "cell_type": "markdown",
   "id": "bc038307",
   "metadata": {
    "id": "0XISd-kRZvgE",
    "papermill": {
     "duration": 0.070072,
     "end_time": "2021-10-21T19:29:39.312053",
     "exception": false,
     "start_time": "2021-10-21T19:29:39.241981",
     "status": "completed"
    },
    "tags": []
   },
   "source": [
    "Tfidf vectorizer used on train and validation sets (used for ml models)"
   ]
  },
  {
   "cell_type": "code",
   "execution_count": 31,
   "id": "a1969f9d",
   "metadata": {
    "execution": {
     "iopub.execute_input": "2021-10-21T19:29:39.456492Z",
     "iopub.status.busy": "2021-10-21T19:29:39.455444Z",
     "iopub.status.idle": "2021-10-21T19:29:39.678429Z",
     "shell.execute_reply": "2021-10-21T19:29:39.677832Z",
     "shell.execute_reply.started": "2021-10-21T19:18:53.90456Z"
    },
    "id": "vL3hbQgFFhw8",
    "papermill": {
     "duration": 0.295557,
     "end_time": "2021-10-21T19:29:39.678585",
     "exception": false,
     "start_time": "2021-10-21T19:29:39.383028",
     "status": "completed"
    },
    "tags": []
   },
   "outputs": [],
   "source": [
    "tfidf =  TfidfVectorizer(stop_words='english')\n",
    "X_train = tfidf.fit_transform(X_train)\n",
    "X_test = tfidf.transform(X_test)"
   ]
  },
  {
   "cell_type": "code",
   "execution_count": 32,
   "id": "9d81c04e",
   "metadata": {
    "execution": {
     "iopub.execute_input": "2021-10-21T19:29:39.831277Z",
     "iopub.status.busy": "2021-10-21T19:29:39.826097Z",
     "iopub.status.idle": "2021-10-21T19:29:39.898797Z",
     "shell.execute_reply": "2021-10-21T19:29:39.898166Z",
     "shell.execute_reply.started": "2021-10-21T19:18:54.9697Z"
    },
    "id": "5X0uWT96nvdb",
    "papermill": {
     "duration": 0.150618,
     "end_time": "2021-10-21T19:29:39.898949",
     "exception": false,
     "start_time": "2021-10-21T19:29:39.748331",
     "status": "completed"
    },
    "tags": []
   },
   "outputs": [],
   "source": [
    "X_te = tfidf.transform(X_te)"
   ]
  },
  {
   "cell_type": "code",
   "execution_count": 33,
   "id": "3cb8020f",
   "metadata": {
    "execution": {
     "iopub.execute_input": "2021-10-21T19:29:40.044310Z",
     "iopub.status.busy": "2021-10-21T19:29:40.043555Z",
     "iopub.status.idle": "2021-10-21T19:29:40.046649Z",
     "shell.execute_reply": "2021-10-21T19:29:40.047173Z",
     "shell.execute_reply.started": "2021-10-21T19:18:56.32039Z"
    },
    "id": "mWxdcxwgIVZq",
    "outputId": "7a22e31d-12a3-49fe-8c09-017f8426b3de",
    "papermill": {
     "duration": 0.078987,
     "end_time": "2021-10-21T19:29:40.047348",
     "exception": false,
     "start_time": "2021-10-21T19:29:39.968361",
     "status": "completed"
    },
    "tags": []
   },
   "outputs": [
    {
     "name": "stdout",
     "output_type": "stream",
     "text": [
      "  (0, 13314)\t0.34451765198580475\n",
      "  (0, 11246)\t0.34451765198580475\n",
      "  (0, 8748)\t0.23995585061224206\n",
      "  (0, 7092)\t0.2890852752241377\n",
      "  (0, 1549)\t0.2152780352799539\n",
      "  (0, 819)\t0.23535468752506766\n",
      "  (0, 14504)\t0.25520521659907336\n",
      "  (0, 9275)\t0.22608586644005071\n",
      "  (0, 463)\t0.3240917747477013\n",
      "  (0, 6348)\t0.34451765198580475\n",
      "  (0, 2989)\t0.3607305828515159\n",
      "  (0, 13646)\t0.22277935486765124\n"
     ]
    }
   ],
   "source": [
    "print(X_train[0])"
   ]
  },
  {
   "cell_type": "markdown",
   "id": "ccb9203e",
   "metadata": {
    "id": "GZG4XMl_Z3dw",
    "papermill": {
     "duration": 0.070416,
     "end_time": "2021-10-21T19:29:40.187851",
     "exception": false,
     "start_time": "2021-10-21T19:29:40.117435",
     "status": "completed"
    },
    "tags": []
   },
   "source": [
    "Alternatively, use count vectorizer to trasnform text "
   ]
  },
  {
   "cell_type": "code",
   "execution_count": 34,
   "id": "e09ef22b",
   "metadata": {
    "_kg_hide-output": true,
    "collapsed": true,
    "execution": {
     "iopub.execute_input": "2021-10-21T19:29:40.337961Z",
     "iopub.status.busy": "2021-10-21T19:29:40.335710Z",
     "iopub.status.idle": "2021-10-21T19:29:40.342482Z",
     "shell.execute_reply": "2021-10-21T19:29:40.341874Z",
     "shell.execute_reply.started": "2021-10-21T19:18:57.689849Z"
    },
    "id": "_3sTfaO8Fhw8",
    "jupyter": {
     "outputs_hidden": true
    },
    "papermill": {
     "duration": 0.080711,
     "end_time": "2021-10-21T19:29:40.342624",
     "exception": false,
     "start_time": "2021-10-21T19:29:40.261913",
     "status": "completed"
    },
    "tags": []
   },
   "outputs": [
    {
     "data": {
      "text/plain": [
       "'\"countv = CountVectorizer(stop_words=\\'english\\')\\nX_train = countv.fit_transform(X_train)\\nX_test = countv.transform(X_test)'"
      ]
     },
     "execution_count": 34,
     "metadata": {},
     "output_type": "execute_result"
    }
   ],
   "source": [
    "\"\"\"\"countv = CountVectorizer(stop_words='english')\n",
    "X_train = countv.fit_transform(X_train)\n",
    "X_test = countv.transform(X_test)\"\"\""
   ]
  },
  {
   "cell_type": "code",
   "execution_count": 35,
   "id": "c65b1546",
   "metadata": {
    "execution": {
     "iopub.execute_input": "2021-10-21T19:29:40.486921Z",
     "iopub.status.busy": "2021-10-21T19:29:40.486200Z",
     "iopub.status.idle": "2021-10-21T19:29:40.490803Z",
     "shell.execute_reply": "2021-10-21T19:29:40.491434Z"
    },
    "id": "igALwfjDAQOY",
    "papermill": {
     "duration": 0.078327,
     "end_time": "2021-10-21T19:29:40.491617",
     "exception": false,
     "start_time": "2021-10-21T19:29:40.413290",
     "status": "completed"
    },
    "tags": []
   },
   "outputs": [
    {
     "data": {
      "text/plain": [
       "'\"X_te = countv.transform(X_te)'"
      ]
     },
     "execution_count": 35,
     "metadata": {},
     "output_type": "execute_result"
    }
   ],
   "source": [
    "\"\"\"\"X_te = countv.transform(X_te)\"\"\""
   ]
  },
  {
   "cell_type": "code",
   "execution_count": 36,
   "id": "a40fe65a",
   "metadata": {
    "execution": {
     "iopub.execute_input": "2021-10-21T19:29:40.638604Z",
     "iopub.status.busy": "2021-10-21T19:29:40.636785Z",
     "iopub.status.idle": "2021-10-21T19:29:40.643148Z",
     "shell.execute_reply": "2021-10-21T19:29:40.643847Z"
    },
    "id": "-ANS08mEFhw9",
    "papermill": {
     "duration": 0.081442,
     "end_time": "2021-10-21T19:29:40.644097",
     "exception": false,
     "start_time": "2021-10-21T19:29:40.562655",
     "status": "completed"
    },
    "tags": []
   },
   "outputs": [
    {
     "name": "stdout",
     "output_type": "stream",
     "text": [
      "  (0, 13314)\t0.34451765198580475\n",
      "  (0, 11246)\t0.34451765198580475\n",
      "  (0, 8748)\t0.23995585061224206\n",
      "  (0, 7092)\t0.2890852752241377\n",
      "  (0, 1549)\t0.2152780352799539\n",
      "  (0, 819)\t0.23535468752506766\n",
      "  (0, 14504)\t0.25520521659907336\n",
      "  (0, 9275)\t0.22608586644005071\n",
      "  (0, 463)\t0.3240917747477013\n",
      "  (0, 6348)\t0.34451765198580475\n",
      "  (0, 2989)\t0.3607305828515159\n",
      "  (0, 13646)\t0.22277935486765124\n",
      "  (1, 1627)\t0.39702743481434616\n",
      "  (1, 5004)\t0.2528022115732142\n",
      "  (1, 4400)\t0.27500742654459487\n",
      "  (1, 2113)\t0.37918315252047363\n",
      "  (1, 5639)\t0.3665224327469083\n",
      "  (1, 12229)\t0.33083386815916344\n",
      "  (1, 15151)\t0.39702743481434616\n",
      "  (1, 15474)\t0.39702743481434616\n",
      "  (2, 11720)\t0.18514058211273088\n",
      "  (2, 447)\t0.14915318741711092\n",
      "  (2, 12387)\t0.2470547549601494\n",
      "  (2, 7540)\t0.26844562868334204\n",
      "  (2, 15251)\t0.22179896794570508\n",
      "  :\t:\n",
      "  (6087, 1634)\t0.3203639138857168\n",
      "  (6087, 12935)\t0.28919929380345394\n",
      "  (6087, 1478)\t0.2423362509070157\n",
      "  (6087, 7704)\t0.27966710568933306\n",
      "  (6088, 13403)\t0.3913268384909368\n",
      "  (6088, 3626)\t0.3913268384909368\n",
      "  (6088, 303)\t0.29367138448150915\n",
      "  (6088, 2127)\t0.29367138448150915\n",
      "  (6088, 4172)\t0.303925343323666\n",
      "  (6088, 10554)\t0.27532890316771963\n",
      "  (6088, 6322)\t0.2371046584424879\n",
      "  (6088, 10395)\t0.28933001230120553\n",
      "  (6088, 10940)\t0.278428615774961\n",
      "  (6088, 11941)\t0.2371046584424879\n",
      "  (6088, 9661)\t0.2817669948415213\n",
      "  (6089, 12358)\t0.40524209900396\n",
      "  (6089, 12931)\t0.40524209900396\n",
      "  (6089, 9039)\t0.35589244766543554\n",
      "  (6089, 2931)\t0.37410593564610745\n",
      "  (6089, 15381)\t0.24886483433428533\n",
      "  (6089, 238)\t0.29961834956663114\n",
      "  (6089, 13853)\t0.2322935131324184\n",
      "  (6089, 4394)\t0.2481790196622244\n",
      "  (6089, 15029)\t0.2793151830200769\n",
      "  (6089, 13910)\t0.24427046961120602\n"
     ]
    }
   ],
   "source": [
    "print(X_train)"
   ]
  },
  {
   "cell_type": "markdown",
   "id": "e3339118",
   "metadata": {
    "id": "6uZW40vsaCOV",
    "papermill": {
     "duration": 0.071412,
     "end_time": "2021-10-21T19:29:40.787861",
     "exception": false,
     "start_time": "2021-10-21T19:29:40.716449",
     "status": "completed"
    },
    "tags": []
   },
   "source": [
    "Multinomial Naive Bayes"
   ]
  },
  {
   "cell_type": "code",
   "execution_count": 37,
   "id": "5ea8ec27",
   "metadata": {
    "execution": {
     "iopub.execute_input": "2021-10-21T19:29:40.933863Z",
     "iopub.status.busy": "2021-10-21T19:29:40.933156Z",
     "iopub.status.idle": "2021-10-21T19:29:40.947039Z",
     "shell.execute_reply": "2021-10-21T19:29:40.947603Z",
     "shell.execute_reply.started": "2021-10-21T19:19:21.533633Z"
    },
    "id": "viuL75JMFhw9",
    "outputId": "65e6bc25-bda5-442f-a79f-f68fe7332790",
    "papermill": {
     "duration": 0.088749,
     "end_time": "2021-10-21T19:29:40.947806",
     "exception": false,
     "start_time": "2021-10-21T19:29:40.859057",
     "status": "completed"
    },
    "tags": []
   },
   "outputs": [
    {
     "data": {
      "text/plain": [
       "MultinomialNB()"
      ]
     },
     "execution_count": 37,
     "metadata": {},
     "output_type": "execute_result"
    }
   ],
   "source": [
    "from sklearn.naive_bayes import MultinomialNB\n",
    "\n",
    "nb = MultinomialNB()\n",
    "nb.fit(X_train, y_train)\n",
    "\n"
   ]
  },
  {
   "cell_type": "code",
   "execution_count": 38,
   "id": "5a73d396",
   "metadata": {
    "execution": {
     "iopub.execute_input": "2021-10-21T19:29:41.098555Z",
     "iopub.status.busy": "2021-10-21T19:29:41.097814Z",
     "iopub.status.idle": "2021-10-21T19:29:41.101807Z",
     "shell.execute_reply": "2021-10-21T19:29:41.102446Z",
     "shell.execute_reply.started": "2021-10-21T19:19:22.998226Z"
    },
    "id": "Sp3kkY48Fhw9",
    "papermill": {
     "duration": 0.08288,
     "end_time": "2021-10-21T19:29:41.102629",
     "exception": false,
     "start_time": "2021-10-21T19:29:41.019749",
     "status": "completed"
    },
    "tags": []
   },
   "outputs": [],
   "source": [
    "preds = nb.predict(X_test)"
   ]
  },
  {
   "cell_type": "code",
   "execution_count": 39,
   "id": "53349964",
   "metadata": {
    "execution": {
     "iopub.execute_input": "2021-10-21T19:29:41.249708Z",
     "iopub.status.busy": "2021-10-21T19:29:41.248693Z",
     "iopub.status.idle": "2021-10-21T19:29:41.256525Z",
     "shell.execute_reply": "2021-10-21T19:29:41.257095Z",
     "shell.execute_reply.started": "2021-10-21T19:19:26.789755Z"
    },
    "id": "nzuiRoq0Fhw9",
    "outputId": "e505dfb1-7fdf-46a6-e87e-78d4a80ce766",
    "papermill": {
     "duration": 0.08267,
     "end_time": "2021-10-21T19:29:41.257273",
     "exception": false,
     "start_time": "2021-10-21T19:29:41.174603",
     "status": "completed"
    },
    "tags": []
   },
   "outputs": [
    {
     "data": {
      "text/plain": [
       "0.7892317793827971"
      ]
     },
     "execution_count": 39,
     "metadata": {},
     "output_type": "execute_result"
    }
   ],
   "source": [
    "from sklearn.metrics import f1_score\n",
    "\n",
    "f1_score(y_test, preds, average='micro')\n",
    "#model.score(X_test, y_test)"
   ]
  },
  {
   "cell_type": "code",
   "execution_count": 40,
   "id": "ec51af13",
   "metadata": {
    "execution": {
     "iopub.execute_input": "2021-10-21T19:29:41.407677Z",
     "iopub.status.busy": "2021-10-21T19:29:41.406986Z",
     "iopub.status.idle": "2021-10-21T19:29:41.409814Z",
     "shell.execute_reply": "2021-10-21T19:29:41.409232Z"
    },
    "id": "mg0QzQ6bm9hJ",
    "papermill": {
     "duration": 0.079246,
     "end_time": "2021-10-21T19:29:41.409957",
     "exception": false,
     "start_time": "2021-10-21T19:29:41.330711",
     "status": "completed"
    },
    "tags": []
   },
   "outputs": [],
   "source": [
    "final_preds = nb.predict(X_te)"
   ]
  },
  {
   "cell_type": "code",
   "execution_count": 41,
   "id": "9cb98579",
   "metadata": {
    "execution": {
     "iopub.execute_input": "2021-10-21T19:29:41.557982Z",
     "iopub.status.busy": "2021-10-21T19:29:41.557237Z",
     "iopub.status.idle": "2021-10-21T19:29:41.568081Z",
     "shell.execute_reply": "2021-10-21T19:29:41.568633Z"
    },
    "papermill": {
     "duration": 0.086447,
     "end_time": "2021-10-21T19:29:41.568859",
     "exception": false,
     "start_time": "2021-10-21T19:29:41.482412",
     "status": "completed"
    },
    "tags": []
   },
   "outputs": [
    {
     "data": {
      "text/html": [
       "<div>\n",
       "<style scoped>\n",
       "    .dataframe tbody tr th:only-of-type {\n",
       "        vertical-align: middle;\n",
       "    }\n",
       "\n",
       "    .dataframe tbody tr th {\n",
       "        vertical-align: top;\n",
       "    }\n",
       "\n",
       "    .dataframe thead th {\n",
       "        text-align: right;\n",
       "    }\n",
       "</style>\n",
       "<table border=\"1\" class=\"dataframe\">\n",
       "  <thead>\n",
       "    <tr style=\"text-align: right;\">\n",
       "      <th></th>\n",
       "      <th>id</th>\n",
       "      <th>target</th>\n",
       "    </tr>\n",
       "  </thead>\n",
       "  <tbody>\n",
       "    <tr>\n",
       "      <th>0</th>\n",
       "      <td>0</td>\n",
       "      <td>1</td>\n",
       "    </tr>\n",
       "    <tr>\n",
       "      <th>1</th>\n",
       "      <td>2</td>\n",
       "      <td>1</td>\n",
       "    </tr>\n",
       "    <tr>\n",
       "      <th>2</th>\n",
       "      <td>3</td>\n",
       "      <td>1</td>\n",
       "    </tr>\n",
       "    <tr>\n",
       "      <th>3</th>\n",
       "      <td>9</td>\n",
       "      <td>1</td>\n",
       "    </tr>\n",
       "    <tr>\n",
       "      <th>4</th>\n",
       "      <td>11</td>\n",
       "      <td>1</td>\n",
       "    </tr>\n",
       "    <tr>\n",
       "      <th>...</th>\n",
       "      <td>...</td>\n",
       "      <td>...</td>\n",
       "    </tr>\n",
       "    <tr>\n",
       "      <th>3258</th>\n",
       "      <td>10861</td>\n",
       "      <td>1</td>\n",
       "    </tr>\n",
       "    <tr>\n",
       "      <th>3259</th>\n",
       "      <td>10865</td>\n",
       "      <td>1</td>\n",
       "    </tr>\n",
       "    <tr>\n",
       "      <th>3260</th>\n",
       "      <td>10868</td>\n",
       "      <td>1</td>\n",
       "    </tr>\n",
       "    <tr>\n",
       "      <th>3261</th>\n",
       "      <td>10874</td>\n",
       "      <td>1</td>\n",
       "    </tr>\n",
       "    <tr>\n",
       "      <th>3262</th>\n",
       "      <td>10875</td>\n",
       "      <td>1</td>\n",
       "    </tr>\n",
       "  </tbody>\n",
       "</table>\n",
       "<p>3263 rows × 2 columns</p>\n",
       "</div>"
      ],
      "text/plain": [
       "         id  target\n",
       "0         0       1\n",
       "1         2       1\n",
       "2         3       1\n",
       "3         9       1\n",
       "4        11       1\n",
       "...     ...     ...\n",
       "3258  10861       1\n",
       "3259  10865       1\n",
       "3260  10868       1\n",
       "3261  10874       1\n",
       "3262  10875       1\n",
       "\n",
       "[3263 rows x 2 columns]"
      ]
     },
     "execution_count": 41,
     "metadata": {},
     "output_type": "execute_result"
    }
   ],
   "source": [
    "submission_file1=pd.DataFrame({'id':test['id'],'target':final_preds})\n",
    "submission_file1"
   ]
  },
  {
   "cell_type": "code",
   "execution_count": 42,
   "id": "76841d4d",
   "metadata": {
    "execution": {
     "iopub.execute_input": "2021-10-21T19:29:41.718572Z",
     "iopub.status.busy": "2021-10-21T19:29:41.717915Z",
     "iopub.status.idle": "2021-10-21T19:29:41.732299Z",
     "shell.execute_reply": "2021-10-21T19:29:41.731584Z"
    },
    "papermill": {
     "duration": 0.090829,
     "end_time": "2021-10-21T19:29:41.732445",
     "exception": false,
     "start_time": "2021-10-21T19:29:41.641616",
     "status": "completed"
    },
    "tags": []
   },
   "outputs": [],
   "source": [
    "submission_file1.to_csv('submission_1.csv', index = False)"
   ]
  },
  {
   "cell_type": "markdown",
   "id": "34180e9a",
   "metadata": {
    "id": "Q-BZDbt0aIwW",
    "papermill": {
     "duration": 0.072659,
     "end_time": "2021-10-21T19:29:41.878704",
     "exception": false,
     "start_time": "2021-10-21T19:29:41.806045",
     "status": "completed"
    },
    "tags": []
   },
   "source": [
    "Linear Support Vector classifier"
   ]
  },
  {
   "cell_type": "code",
   "execution_count": 43,
   "id": "49642b40",
   "metadata": {
    "execution": {
     "iopub.execute_input": "2021-10-21T19:29:42.030280Z",
     "iopub.status.busy": "2021-10-21T19:29:42.029534Z",
     "iopub.status.idle": "2021-10-21T19:29:46.248922Z",
     "shell.execute_reply": "2021-10-21T19:29:46.248279Z",
     "shell.execute_reply.started": "2021-10-21T19:19:41.228273Z"
    },
    "id": "NwwpV2HCFhw-",
    "papermill": {
     "duration": 4.296863,
     "end_time": "2021-10-21T19:29:46.249068",
     "exception": false,
     "start_time": "2021-10-21T19:29:41.952205",
     "status": "completed"
    },
    "tags": []
   },
   "outputs": [],
   "source": [
    "from sklearn import svm\n",
    "\n",
    "svc = svm.SVC(kernel='linear') \n",
    "svc.fit(X_train, y_train)\n",
    "y_pred = svc.predict(X_test)"
   ]
  },
  {
   "cell_type": "code",
   "execution_count": 44,
   "id": "fe0a9ea0",
   "metadata": {
    "execution": {
     "iopub.execute_input": "2021-10-21T19:29:46.400891Z",
     "iopub.status.busy": "2021-10-21T19:29:46.400206Z",
     "iopub.status.idle": "2021-10-21T19:29:46.404836Z",
     "shell.execute_reply": "2021-10-21T19:29:46.404201Z",
     "shell.execute_reply.started": "2021-10-21T19:19:45.565731Z"
    },
    "id": "yYY7phC-Fhw-",
    "outputId": "d1423aee-11e4-418f-d5ef-6f26924bb86d",
    "papermill": {
     "duration": 0.082914,
     "end_time": "2021-10-21T19:29:46.404998",
     "exception": false,
     "start_time": "2021-10-21T19:29:46.322084",
     "status": "completed"
    },
    "tags": []
   },
   "outputs": [
    {
     "name": "stdout",
     "output_type": "stream",
     "text": [
      "Accuracy: 0.7931713722915299\n"
     ]
    }
   ],
   "source": [
    "from sklearn import metrics\n",
    "\n",
    "print(\"Accuracy:\",metrics.accuracy_score(y_test, y_pred))\n",
    "#f1_score(y_test, y_pred, average='micro')\n"
   ]
  },
  {
   "cell_type": "code",
   "execution_count": 45,
   "id": "733cf4bf",
   "metadata": {
    "execution": {
     "iopub.execute_input": "2021-10-21T19:29:46.555505Z",
     "iopub.status.busy": "2021-10-21T19:29:46.553750Z",
     "iopub.status.idle": "2021-10-21T19:29:47.813797Z",
     "shell.execute_reply": "2021-10-21T19:29:47.813123Z",
     "shell.execute_reply.started": "2021-10-21T19:19:45.574961Z"
    },
    "id": "JMSh00Yay6Gh",
    "papermill": {
     "duration": 1.336166,
     "end_time": "2021-10-21T19:29:47.813970",
     "exception": false,
     "start_time": "2021-10-21T19:29:46.477804",
     "status": "completed"
    },
    "tags": []
   },
   "outputs": [],
   "source": [
    "final_preds = svc.predict(X_te)"
   ]
  },
  {
   "cell_type": "code",
   "execution_count": 46,
   "id": "1ac08380",
   "metadata": {
    "execution": {
     "iopub.execute_input": "2021-10-21T19:29:47.970574Z",
     "iopub.status.busy": "2021-10-21T19:29:47.969846Z",
     "iopub.status.idle": "2021-10-21T19:29:47.972769Z",
     "shell.execute_reply": "2021-10-21T19:29:47.973262Z"
    },
    "id": "qfcX8uLsy_3h",
    "outputId": "d6c4f2da-f7df-4eed-ddc7-cf597b49bf41",
    "papermill": {
     "duration": 0.083395,
     "end_time": "2021-10-21T19:29:47.973445",
     "exception": false,
     "start_time": "2021-10-21T19:29:47.890050",
     "status": "completed"
    },
    "tags": []
   },
   "outputs": [
    {
     "data": {
      "text/plain": [
       "array([1, 1, 1, ..., 1, 1, 0])"
      ]
     },
     "execution_count": 46,
     "metadata": {},
     "output_type": "execute_result"
    }
   ],
   "source": [
    "final_preds"
   ]
  },
  {
   "cell_type": "code",
   "execution_count": 47,
   "id": "f46cfb37",
   "metadata": {
    "execution": {
     "iopub.execute_input": "2021-10-21T19:29:48.130190Z",
     "iopub.status.busy": "2021-10-21T19:29:48.129494Z",
     "iopub.status.idle": "2021-10-21T19:29:48.136147Z",
     "shell.execute_reply": "2021-10-21T19:29:48.135377Z"
    },
    "id": "VyAEgmW6JB4O",
    "outputId": "e0dfa8bf-ed7f-4d24-cdc7-f6aff7b782be",
    "papermill": {
     "duration": 0.088731,
     "end_time": "2021-10-21T19:29:48.136305",
     "exception": false,
     "start_time": "2021-10-21T19:29:48.047574",
     "status": "completed"
    },
    "tags": []
   },
   "outputs": [
    {
     "data": {
      "text/plain": [
       "<6090x15591 sparse matrix of type '<class 'numpy.float64'>'\n",
       "\twith 56919 stored elements in Compressed Sparse Row format>"
      ]
     },
     "execution_count": 47,
     "metadata": {},
     "output_type": "execute_result"
    }
   ],
   "source": [
    "X_train"
   ]
  },
  {
   "cell_type": "markdown",
   "id": "df64fa7e",
   "metadata": {
    "papermill": {
     "duration": 0.074854,
     "end_time": "2021-10-21T19:29:48.287551",
     "exception": false,
     "start_time": "2021-10-21T19:29:48.212697",
     "status": "completed"
    },
    "tags": []
   },
   "source": [
    "To run LSTM model, some of the above preprocessing of the ml models should not run e.g the vectorizers."
   ]
  },
  {
   "cell_type": "code",
   "execution_count": 48,
   "id": "968eb33f",
   "metadata": {
    "execution": {
     "iopub.execute_input": "2021-10-21T19:29:48.448375Z",
     "iopub.status.busy": "2021-10-21T19:29:48.447392Z",
     "iopub.status.idle": "2021-10-21T19:29:54.268887Z",
     "shell.execute_reply": "2021-10-21T19:29:54.268161Z"
    },
    "id": "0L0JrkOEj6Oc",
    "papermill": {
     "duration": 5.904322,
     "end_time": "2021-10-21T19:29:54.269038",
     "exception": false,
     "start_time": "2021-10-21T19:29:48.364716",
     "status": "completed"
    },
    "tags": []
   },
   "outputs": [],
   "source": [
    "import keras\n",
    "from keras import optimizers\n",
    "import tensorflow as tf \n",
    "from keras.models import Sequential\n",
    "from keras.preprocessing.text import Tokenizer\n",
    "from keras.preprocessing.sequence import pad_sequences\n",
    "from keras.layers import Dense, Embedding, LSTM, Dropout"
   ]
  },
  {
   "cell_type": "markdown",
   "id": "f2d247dd",
   "metadata": {
    "id": "i7gHQ79SaMuz",
    "papermill": {
     "duration": 0.073408,
     "end_time": "2021-10-21T19:29:54.418836",
     "exception": false,
     "start_time": "2021-10-21T19:29:54.345428",
     "status": "completed"
    },
    "tags": []
   },
   "source": [
    "Method to tokenize text for lstm "
   ]
  },
  {
   "cell_type": "code",
   "execution_count": 49,
   "id": "2411a5ef",
   "metadata": {
    "execution": {
     "iopub.execute_input": "2021-10-21T19:29:54.570725Z",
     "iopub.status.busy": "2021-10-21T19:29:54.570106Z",
     "iopub.status.idle": "2021-10-21T19:29:54.890629Z",
     "shell.execute_reply": "2021-10-21T19:29:54.889986Z"
    },
    "id": "rHkAvl-aIElE",
    "papermill": {
     "duration": 0.396981,
     "end_time": "2021-10-21T19:29:54.890794",
     "exception": false,
     "start_time": "2021-10-21T19:29:54.493813",
     "status": "completed"
    },
    "tags": []
   },
   "outputs": [],
   "source": [
    "tokenizer = Tokenizer(num_words=3000, split=' ') \n",
    "tokenizer.fit_on_texts(train['text'].values)\n",
    "X = tokenizer.texts_to_sequences(train['text'].values)\n",
    "#X = pad_sequences(X)"
   ]
  },
  {
   "cell_type": "code",
   "execution_count": 50,
   "id": "c35d871c",
   "metadata": {
    "execution": {
     "iopub.execute_input": "2021-10-21T19:29:55.083652Z",
     "iopub.status.busy": "2021-10-21T19:29:55.067993Z",
     "iopub.status.idle": "2021-10-21T19:29:55.189233Z",
     "shell.execute_reply": "2021-10-21T19:29:55.188681Z"
    },
    "id": "1Q1BaoCqg_qp",
    "papermill": {
     "duration": 0.224627,
     "end_time": "2021-10-21T19:29:55.189405",
     "exception": false,
     "start_time": "2021-10-21T19:29:54.964778",
     "status": "completed"
    },
    "tags": []
   },
   "outputs": [],
   "source": [
    "tokenizer = Tokenizer(num_words=3000, split=' ') \n",
    "tokenizer.fit_on_texts(test['text'].values)\n",
    "X_t = tokenizer.texts_to_sequences(test['text'].values)\n",
    "#X_t = pad_sequences(X_t)"
   ]
  },
  {
   "cell_type": "code",
   "execution_count": 51,
   "id": "76157519",
   "metadata": {
    "execution": {
     "iopub.execute_input": "2021-10-21T19:29:55.353716Z",
     "iopub.status.busy": "2021-10-21T19:29:55.352988Z",
     "iopub.status.idle": "2021-10-21T19:29:55.357927Z",
     "shell.execute_reply": "2021-10-21T19:29:55.358550Z"
    },
    "id": "GHWZ_c9zk7ku",
    "outputId": "e4eedc76-fc84-495d-96cb-7e30867f0e71",
    "papermill": {
     "duration": 0.09433,
     "end_time": "2021-10-21T19:29:55.358745",
     "exception": false,
     "start_time": "2021-10-21T19:29:55.264415",
     "status": "completed"
    },
    "tags": []
   },
   "outputs": [
    {
     "data": {
      "text/html": [
       "<div>\n",
       "<style scoped>\n",
       "    .dataframe tbody tr th:only-of-type {\n",
       "        vertical-align: middle;\n",
       "    }\n",
       "\n",
       "    .dataframe tbody tr th {\n",
       "        vertical-align: top;\n",
       "    }\n",
       "\n",
       "    .dataframe thead th {\n",
       "        text-align: right;\n",
       "    }\n",
       "</style>\n",
       "<table border=\"1\" class=\"dataframe\">\n",
       "  <thead>\n",
       "    <tr style=\"text-align: right;\">\n",
       "      <th></th>\n",
       "      <th>id</th>\n",
       "      <th>keyword</th>\n",
       "      <th>location</th>\n",
       "      <th>text</th>\n",
       "    </tr>\n",
       "  </thead>\n",
       "  <tbody>\n",
       "    <tr>\n",
       "      <th>0</th>\n",
       "      <td>0</td>\n",
       "      <td></td>\n",
       "      <td></td>\n",
       "      <td>just happened a terrible car crash</td>\n",
       "    </tr>\n",
       "    <tr>\n",
       "      <th>1</th>\n",
       "      <td>2</td>\n",
       "      <td></td>\n",
       "      <td></td>\n",
       "      <td>heard about earthquake is different cities sta...</td>\n",
       "    </tr>\n",
       "    <tr>\n",
       "      <th>2</th>\n",
       "      <td>3</td>\n",
       "      <td></td>\n",
       "      <td></td>\n",
       "      <td>there is a forest fire at spot pond geese are ...</td>\n",
       "    </tr>\n",
       "    <tr>\n",
       "      <th>3</th>\n",
       "      <td>9</td>\n",
       "      <td></td>\n",
       "      <td></td>\n",
       "      <td>apocalypse lighting spokane wildfires</td>\n",
       "    </tr>\n",
       "    <tr>\n",
       "      <th>4</th>\n",
       "      <td>11</td>\n",
       "      <td></td>\n",
       "      <td></td>\n",
       "      <td>typhoon soudelor kills  in china and taiwan</td>\n",
       "    </tr>\n",
       "    <tr>\n",
       "      <th>...</th>\n",
       "      <td>...</td>\n",
       "      <td>...</td>\n",
       "      <td>...</td>\n",
       "      <td>...</td>\n",
       "    </tr>\n",
       "    <tr>\n",
       "      <th>3258</th>\n",
       "      <td>10861</td>\n",
       "      <td></td>\n",
       "      <td></td>\n",
       "      <td>earthquake safety los angeles ûò safety faste...</td>\n",
       "    </tr>\n",
       "    <tr>\n",
       "      <th>3259</th>\n",
       "      <td>10865</td>\n",
       "      <td></td>\n",
       "      <td></td>\n",
       "      <td>storm in ri worse than last hurricane my citya...</td>\n",
       "    </tr>\n",
       "    <tr>\n",
       "      <th>3260</th>\n",
       "      <td>10868</td>\n",
       "      <td></td>\n",
       "      <td></td>\n",
       "      <td>green line derailment in chicago</td>\n",
       "    </tr>\n",
       "    <tr>\n",
       "      <th>3261</th>\n",
       "      <td>10874</td>\n",
       "      <td></td>\n",
       "      <td></td>\n",
       "      <td>meg issues hazardous weather outlook hwo</td>\n",
       "    </tr>\n",
       "    <tr>\n",
       "      <th>3262</th>\n",
       "      <td>10875</td>\n",
       "      <td></td>\n",
       "      <td></td>\n",
       "      <td>cityofcalgary has activated its municipal emer...</td>\n",
       "    </tr>\n",
       "  </tbody>\n",
       "</table>\n",
       "<p>3263 rows × 4 columns</p>\n",
       "</div>"
      ],
      "text/plain": [
       "         id keyword location  \\\n",
       "0         0                    \n",
       "1         2                    \n",
       "2         3                    \n",
       "3         9                    \n",
       "4        11                    \n",
       "...     ...     ...      ...   \n",
       "3258  10861                    \n",
       "3259  10865                    \n",
       "3260  10868                    \n",
       "3261  10874                    \n",
       "3262  10875                    \n",
       "\n",
       "                                                   text  \n",
       "0                    just happened a terrible car crash  \n",
       "1     heard about earthquake is different cities sta...  \n",
       "2     there is a forest fire at spot pond geese are ...  \n",
       "3                 apocalypse lighting spokane wildfires  \n",
       "4           typhoon soudelor kills  in china and taiwan  \n",
       "...                                                 ...  \n",
       "3258  earthquake safety los angeles ûò safety faste...  \n",
       "3259  storm in ri worse than last hurricane my citya...  \n",
       "3260                  green line derailment in chicago   \n",
       "3261          meg issues hazardous weather outlook hwo   \n",
       "3262  cityofcalgary has activated its municipal emer...  \n",
       "\n",
       "[3263 rows x 4 columns]"
      ]
     },
     "execution_count": 51,
     "metadata": {},
     "output_type": "execute_result"
    }
   ],
   "source": [
    "test"
   ]
  },
  {
   "cell_type": "markdown",
   "id": "23066d14",
   "metadata": {
    "id": "KGC_HcJXlW6Z",
    "papermill": {
     "duration": 0.074335,
     "end_time": "2021-10-21T19:29:55.507650",
     "exception": false,
     "start_time": "2021-10-21T19:29:55.433315",
     "status": "completed"
    },
    "tags": []
   },
   "source": [
    "LSTM model with a layer of 1d convolution"
   ]
  },
  {
   "cell_type": "code",
   "execution_count": 52,
   "id": "ceb054da",
   "metadata": {
    "execution": {
     "iopub.execute_input": "2021-10-21T19:29:55.668733Z",
     "iopub.status.busy": "2021-10-21T19:29:55.668045Z",
     "iopub.status.idle": "2021-10-21T19:29:55.993761Z",
     "shell.execute_reply": "2021-10-21T19:29:55.992793Z"
    },
    "id": "V-YKqAW48eZ7",
    "outputId": "000bd3df-3376-45a9-d14f-870eedeef5ce",
    "papermill": {
     "duration": 0.411868,
     "end_time": "2021-10-21T19:29:55.994052",
     "exception": true,
     "start_time": "2021-10-21T19:29:55.582184",
     "status": "failed"
    },
    "tags": []
   },
   "outputs": [
    {
     "ename": "TypeError",
     "evalue": "sparse matrix length is ambiguous; use getnnz() or shape[0]",
     "output_type": "error",
     "traceback": [
      "\u001b[0;31m---------------------------------------------------------------------------\u001b[0m",
      "\u001b[0;31mTypeError\u001b[0m                                 Traceback (most recent call last)",
      "\u001b[0;32m/tmp/ipykernel_19/1867399123.py\u001b[0m in \u001b[0;36m<module>\u001b[0;34m\u001b[0m\n\u001b[1;32m      9\u001b[0m \u001b[0mmax_length\u001b[0m \u001b[0;34m=\u001b[0m \u001b[0;36m600\u001b[0m\u001b[0;34m\u001b[0m\u001b[0;34m\u001b[0m\u001b[0m\n\u001b[1;32m     10\u001b[0m \u001b[0mtop_words\u001b[0m \u001b[0;34m=\u001b[0m \u001b[0;36m3000\u001b[0m\u001b[0;34m\u001b[0m\u001b[0;34m\u001b[0m\u001b[0m\n\u001b[0;32m---> 11\u001b[0;31m \u001b[0mX_train\u001b[0m \u001b[0;34m=\u001b[0m \u001b[0msequence\u001b[0m\u001b[0;34m.\u001b[0m\u001b[0mpad_sequences\u001b[0m\u001b[0;34m(\u001b[0m\u001b[0mX_train\u001b[0m\u001b[0;34m,\u001b[0m \u001b[0mmaxlen\u001b[0m\u001b[0;34m=\u001b[0m\u001b[0mmax_length\u001b[0m\u001b[0;34m)\u001b[0m\u001b[0;34m\u001b[0m\u001b[0;34m\u001b[0m\u001b[0m\n\u001b[0m\u001b[1;32m     12\u001b[0m \u001b[0mX_test\u001b[0m \u001b[0;34m=\u001b[0m \u001b[0msequence\u001b[0m\u001b[0;34m.\u001b[0m\u001b[0mpad_sequences\u001b[0m\u001b[0;34m(\u001b[0m\u001b[0mX_test\u001b[0m\u001b[0;34m,\u001b[0m \u001b[0mmaxlen\u001b[0m\u001b[0;34m=\u001b[0m\u001b[0mmax_length\u001b[0m\u001b[0;34m)\u001b[0m\u001b[0;34m\u001b[0m\u001b[0;34m\u001b[0m\u001b[0m\n\u001b[1;32m     13\u001b[0m \u001b[0;31m# create the model\u001b[0m\u001b[0;34m\u001b[0m\u001b[0;34m\u001b[0m\u001b[0;34m\u001b[0m\u001b[0m\n",
      "\u001b[0;32m/opt/conda/lib/python3.7/site-packages/keras/preprocessing/sequence.py\u001b[0m in \u001b[0;36mpad_sequences\u001b[0;34m(sequences, maxlen, dtype, padding, truncating, value)\u001b[0m\n\u001b[1;32m    152\u001b[0m   return sequence.pad_sequences(\n\u001b[1;32m    153\u001b[0m       \u001b[0msequences\u001b[0m\u001b[0;34m,\u001b[0m \u001b[0mmaxlen\u001b[0m\u001b[0;34m=\u001b[0m\u001b[0mmaxlen\u001b[0m\u001b[0;34m,\u001b[0m \u001b[0mdtype\u001b[0m\u001b[0;34m=\u001b[0m\u001b[0mdtype\u001b[0m\u001b[0;34m,\u001b[0m\u001b[0;34m\u001b[0m\u001b[0;34m\u001b[0m\u001b[0m\n\u001b[0;32m--> 154\u001b[0;31m       padding=padding, truncating=truncating, value=value)\n\u001b[0m\u001b[1;32m    155\u001b[0m \u001b[0;34m\u001b[0m\u001b[0m\n\u001b[1;32m    156\u001b[0m keras_export(\n",
      "\u001b[0;32m/opt/conda/lib/python3.7/site-packages/keras_preprocessing/sequence.py\u001b[0m in \u001b[0;36mpad_sequences\u001b[0;34m(sequences, maxlen, dtype, padding, truncating, value)\u001b[0m\n\u001b[1;32m     55\u001b[0m     \u001b[0;32mif\u001b[0m \u001b[0;32mnot\u001b[0m \u001b[0mhasattr\u001b[0m\u001b[0;34m(\u001b[0m\u001b[0msequences\u001b[0m\u001b[0;34m,\u001b[0m \u001b[0;34m'__len__'\u001b[0m\u001b[0;34m)\u001b[0m\u001b[0;34m:\u001b[0m\u001b[0;34m\u001b[0m\u001b[0;34m\u001b[0m\u001b[0m\n\u001b[1;32m     56\u001b[0m         \u001b[0;32mraise\u001b[0m \u001b[0mValueError\u001b[0m\u001b[0;34m(\u001b[0m\u001b[0;34m'`sequences` must be iterable.'\u001b[0m\u001b[0;34m)\u001b[0m\u001b[0;34m\u001b[0m\u001b[0;34m\u001b[0m\u001b[0m\n\u001b[0;32m---> 57\u001b[0;31m     \u001b[0mnum_samples\u001b[0m \u001b[0;34m=\u001b[0m \u001b[0mlen\u001b[0m\u001b[0;34m(\u001b[0m\u001b[0msequences\u001b[0m\u001b[0;34m)\u001b[0m\u001b[0;34m\u001b[0m\u001b[0;34m\u001b[0m\u001b[0m\n\u001b[0m\u001b[1;32m     58\u001b[0m \u001b[0;34m\u001b[0m\u001b[0m\n\u001b[1;32m     59\u001b[0m     \u001b[0mlengths\u001b[0m \u001b[0;34m=\u001b[0m \u001b[0;34m[\u001b[0m\u001b[0;34m]\u001b[0m\u001b[0;34m\u001b[0m\u001b[0;34m\u001b[0m\u001b[0m\n",
      "\u001b[0;32m/opt/conda/lib/python3.7/site-packages/scipy/sparse/base.py\u001b[0m in \u001b[0;36m__len__\u001b[0;34m(self)\u001b[0m\n\u001b[1;32m    289\u001b[0m     \u001b[0;31m# non-zeros is more important.  For now, raise an exception!\u001b[0m\u001b[0;34m\u001b[0m\u001b[0;34m\u001b[0m\u001b[0;34m\u001b[0m\u001b[0m\n\u001b[1;32m    290\u001b[0m     \u001b[0;32mdef\u001b[0m \u001b[0m__len__\u001b[0m\u001b[0;34m(\u001b[0m\u001b[0mself\u001b[0m\u001b[0;34m)\u001b[0m\u001b[0;34m:\u001b[0m\u001b[0;34m\u001b[0m\u001b[0;34m\u001b[0m\u001b[0m\n\u001b[0;32m--> 291\u001b[0;31m         raise TypeError(\"sparse matrix length is ambiguous; use getnnz()\"\n\u001b[0m\u001b[1;32m    292\u001b[0m                         \" or shape[0]\")\n\u001b[1;32m    293\u001b[0m \u001b[0;34m\u001b[0m\u001b[0m\n",
      "\u001b[0;31mTypeError\u001b[0m: sparse matrix length is ambiguous; use getnnz() or shape[0]"
     ]
    }
   ],
   "source": [
    "from keras import preprocessing\n",
    "from keras.preprocessing import sequence\n",
    "from keras.layers import Dense\n",
    "from keras.layers import LSTM\n",
    "from keras.layers.convolutional import Conv1D\n",
    "from keras.layers.convolutional import MaxPooling1D\n",
    "from keras.layers.embeddings import Embedding\n",
    "\n",
    "max_length = 600\n",
    "top_words = 3000\n",
    "X_train = sequence.pad_sequences(X_train, maxlen=max_length)\n",
    "X_test = sequence.pad_sequences(X_test, maxlen=max_length)\n",
    "# create the model\n",
    "embedding_vecor_length = 64\n",
    "model = Sequential()\n",
    "model.add(Embedding(top_words, embedding_vecor_length, input_length=max_length))\n",
    "model.add(Conv1D(filters=64, kernel_size=3, padding='same', activation='relu'))\n",
    "model.add(Dropout(0.3))\n",
    "model.add(MaxPooling1D(pool_size=2))\n",
    "model.add(LSTM(64, activation='tanh', dropout=0.2, recurrent_dropout=0.4))\n",
    "model.add(Dense(1, activation='sigmoid'))\n",
    "model.compile(loss='binary_crossentropy', optimizer='adamax', metrics=['accuracy'])\n",
    "print(model.summary())\n"
   ]
  },
  {
   "cell_type": "markdown",
   "id": "a465e2d1",
   "metadata": {
    "id": "QbQXlZ36lbij",
    "papermill": {
     "duration": null,
     "end_time": null,
     "exception": null,
     "start_time": null,
     "status": "pending"
    },
    "tags": []
   },
   "source": [
    "fit train data into the LSTM"
   ]
  },
  {
   "cell_type": "code",
   "execution_count": null,
   "id": "faca1b04",
   "metadata": {
    "id": "bLLvFuMAu_U0",
    "outputId": "f81cd307-c356-45db-970b-03e971ce1ffa",
    "papermill": {
     "duration": null,
     "end_time": null,
     "exception": null,
     "start_time": null,
     "status": "pending"
    },
    "tags": []
   },
   "outputs": [],
   "source": [
    "history = model.fit(X_train, y_train, epochs=10, batch_size=128,validation_data=(X_test, y_test))\n",
    "\n",
    "scores = model.evaluate(X_test, y_test, verbose=0)\n",
    "print(\"Accuracy: \" % (scores[1]*100))"
   ]
  },
  {
   "cell_type": "code",
   "execution_count": null,
   "id": "63773afa",
   "metadata": {
    "id": "uTxDKBs_u-oe",
    "outputId": "5809db92-7d6e-437b-f10e-a7db52920f55",
    "papermill": {
     "duration": null,
     "end_time": null,
     "exception": null,
     "start_time": null,
     "status": "pending"
    },
    "tags": []
   },
   "outputs": [],
   "source": [
    "plt.plot(history.history['val_loss'], label='val')\n",
    "plt.plot(history.history['loss'], label='train')\n",
    "plt.xlabel('Epochs:')\n",
    "plt.ylabel('Loss:')\n",
    "plt.show()"
   ]
  },
  {
   "cell_type": "code",
   "execution_count": null,
   "id": "4a68450b",
   "metadata": {
    "id": "l_mhkHUWxSlZ",
    "outputId": "e8c687d7-b332-4a0a-824e-857726b7a8c4",
    "papermill": {
     "duration": null,
     "end_time": null,
     "exception": null,
     "start_time": null,
     "status": "pending"
    },
    "tags": []
   },
   "outputs": [],
   "source": [
    "plt.plot(history.history['val_accuracy'], label='val')\n",
    "plt.plot(history.history['accuracy'], label='train')\n",
    "plt.xlabel('Epochs:')\n",
    "plt.ylabel('Accuracy:')\n",
    "plt.show()"
   ]
  },
  {
   "cell_type": "code",
   "execution_count": null,
   "id": "c724d08b",
   "metadata": {
    "id": "POUO_oiFxXWh",
    "papermill": {
     "duration": null,
     "end_time": null,
     "exception": null,
     "start_time": null,
     "status": "pending"
    },
    "tags": []
   },
   "outputs": [],
   "source": [
    "X_t = sequence.pad_sequences(X_t, maxlen=max_length)\n",
    "pred_test = model.predict(X_t)"
   ]
  },
  {
   "cell_type": "code",
   "execution_count": null,
   "id": "09547570",
   "metadata": {
    "id": "359bCDiZ_6Xa",
    "outputId": "a024e375-2145-4416-ebed-82b7b907a4d4",
    "papermill": {
     "duration": null,
     "end_time": null,
     "exception": null,
     "start_time": null,
     "status": "pending"
    },
    "tags": []
   },
   "outputs": [],
   "source": [
    "pred_test"
   ]
  },
  {
   "cell_type": "markdown",
   "id": "f8caab48",
   "metadata": {
    "id": "DBdFih0ilqtZ",
    "papermill": {
     "duration": null,
     "end_time": null,
     "exception": null,
     "start_time": null,
     "status": "pending"
    },
    "tags": []
   },
   "source": [
    "Round the results to 0 or 1"
   ]
  },
  {
   "cell_type": "code",
   "execution_count": null,
   "id": "470c4468",
   "metadata": {
    "id": "xWTEATjLx-pW",
    "papermill": {
     "duration": null,
     "end_time": null,
     "exception": null,
     "start_time": null,
     "status": "pending"
    },
    "tags": []
   },
   "outputs": [],
   "source": [
    "pred_test = (pred_test>0.5)*1"
   ]
  },
  {
   "cell_type": "code",
   "execution_count": null,
   "id": "5ab812d5",
   "metadata": {
    "id": "QMtUlJ-Ax6Ro",
    "outputId": "ecffc4c7-2112-4dd2-9071-f9e08a3f944d",
    "papermill": {
     "duration": null,
     "end_time": null,
     "exception": null,
     "start_time": null,
     "status": "pending"
    },
    "tags": []
   },
   "outputs": [],
   "source": [
    "pred_test\n"
   ]
  },
  {
   "cell_type": "code",
   "execution_count": null,
   "id": "e86f0183",
   "metadata": {
    "id": "hm5yR4fK9eiL",
    "outputId": "6aad1353-0956-443e-e888-d588415a6159",
    "papermill": {
     "duration": null,
     "end_time": null,
     "exception": null,
     "start_time": null,
     "status": "pending"
    },
    "tags": []
   },
   "outputs": [],
   "source": [
    "pred_test.shape"
   ]
  },
  {
   "cell_type": "code",
   "execution_count": null,
   "id": "7f19249d",
   "metadata": {
    "id": "ik30ctya9jgW",
    "papermill": {
     "duration": null,
     "end_time": null,
     "exception": null,
     "start_time": null,
     "status": "pending"
    },
    "tags": []
   },
   "outputs": [],
   "source": [
    "pred_test = pred_test.flatten()"
   ]
  },
  {
   "cell_type": "markdown",
   "id": "05db6153",
   "metadata": {
    "id": "C7QDk-5flyTO",
    "papermill": {
     "duration": null,
     "end_time": null,
     "exception": null,
     "start_time": null,
     "status": "pending"
    },
    "tags": []
   },
   "source": [
    "Write predictions to submission file"
   ]
  },
  {
   "cell_type": "code",
   "execution_count": null,
   "id": "4436138e",
   "metadata": {
    "id": "x_as0kCDx78x",
    "outputId": "1c67029a-dc72-4571-d8ee-1beeb4403a19",
    "papermill": {
     "duration": null,
     "end_time": null,
     "exception": null,
     "start_time": null,
     "status": "pending"
    },
    "tags": []
   },
   "outputs": [],
   "source": [
    "submission_file=pd.DataFrame({'id':test['id'],'target':pred_test})\n",
    "submission_file"
   ]
  },
  {
   "cell_type": "code",
   "execution_count": null,
   "id": "da55b80b",
   "metadata": {
    "id": "_Tve6ReC7hj0",
    "papermill": {
     "duration": null,
     "end_time": null,
     "exception": null,
     "start_time": null,
     "status": "pending"
    },
    "tags": []
   },
   "outputs": [],
   "source": [
    "submission_file.to_csv('submission_1.csv', index = False)"
   ]
  },
  {
   "cell_type": "code",
   "execution_count": null,
   "id": "dbe32e9c",
   "metadata": {
    "id": "BiuR9XGy9wRl",
    "papermill": {
     "duration": null,
     "end_time": null,
     "exception": null,
     "start_time": null,
     "status": "pending"
    },
    "tags": []
   },
   "outputs": [],
   "source": [
    "p = pd.read_csv('submission_1.csv')"
   ]
  },
  {
   "cell_type": "code",
   "execution_count": null,
   "id": "5d8ac575",
   "metadata": {
    "id": "eLQsE6eq-2c8",
    "outputId": "7df91387-dea5-468a-f627-3354bd8cb64a",
    "papermill": {
     "duration": null,
     "end_time": null,
     "exception": null,
     "start_time": null,
     "status": "pending"
    },
    "tags": []
   },
   "outputs": [],
   "source": [
    "p"
   ]
  },
  {
   "cell_type": "markdown",
   "id": "af89c59f",
   "metadata": {
    "id": "zfq6oFU-P4s9",
    "papermill": {
     "duration": null,
     "end_time": null,
     "exception": null,
     "start_time": null,
     "status": "pending"
    },
    "tags": []
   },
   "source": [
    "Although LSTM seems to be doing ok during the training, on train and validation data, it never does well on the test data. Sometimes though it seems to overfit."
   ]
  }
 ],
 "metadata": {
  "kernelspec": {
   "display_name": "Python 3",
   "language": "python",
   "name": "python3"
  },
  "language_info": {
   "codemirror_mode": {
    "name": "ipython",
    "version": 3
   },
   "file_extension": ".py",
   "mimetype": "text/x-python",
   "name": "python",
   "nbconvert_exporter": "python",
   "pygments_lexer": "ipython3",
   "version": "3.7.10"
  },
  "papermill": {
   "default_parameters": {},
   "duration": 39.862446,
   "end_time": "2021-10-21T19:29:59.076772",
   "environment_variables": {},
   "exception": true,
   "input_path": "__notebook__.ipynb",
   "output_path": "__notebook__.ipynb",
   "parameters": {},
   "start_time": "2021-10-21T19:29:19.214326",
   "version": "2.3.3"
  }
 },
 "nbformat": 4,
 "nbformat_minor": 5
}
